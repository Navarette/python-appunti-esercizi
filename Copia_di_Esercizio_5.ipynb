{
  "nbformat": 4,
  "nbformat_minor": 0,
  "metadata": {
    "colab": {
      "name": "Copia di Esercizio 5.ipynb",
      "provenance": [],
      "collapsed_sections": []
    },
    "kernelspec": {
      "name": "python3",
      "display_name": "Python 3"
    },
    "language_info": {
      "name": "python"
    }
  },
  "cells": [
    {
      "cell_type": "markdown",
      "metadata": {
        "id": "q_s1m1adTALV"
      },
      "source": [
        "\n",
        "1. scrivere una funzione chiamata max che dati due numeri restituisca il più grande. Scrivere poi un programma che, utilizzando la funzione creata, trovi il massimo tra tre numeri inseriti dall'utente. "
      ]
    },
    {
      "cell_type": "code",
      "metadata": {
        "id": "UxzHTTxbS1Ec"
      },
      "source": [
        "def max(x,y):\n",
        " if x > y:\n",
        "  return x\n",
        " else:\n",
        "  return y\n",
        "max(max(int(input()),int(input())),int(input()))"
      ],
      "execution_count": null,
      "outputs": []
    },
    {
      "cell_type": "markdown",
      "metadata": {
        "id": "yySu_ay4TlKc"
      },
      "source": [
        "2. scrivere una funzione chiamata sommaLista che data una lista di interi restituisca la somma di tutti gli elementi della lista. Scrivere poi un programma che, utilizzando la funzione create, trovi la somma degli elementi di una lista inserita dall'utente. \n"
      ]
    },
    {
      "cell_type": "code",
      "metadata": {
        "id": "1yZrvfKzTnT_"
      },
      "source": [
        "def sommaLista(list1): \n",
        "  return sum(list1)\n",
        "n = int(input('Inserisci il numnero di elementi  = '))\n",
        "list1=[int(input())for i in range(0,n)]\n",
        "sommaLista(list1)"
      ],
      "execution_count": null,
      "outputs": []
    },
    {
      "cell_type": "markdown",
      "metadata": {
        "id": "tdaKZDMOYy95"
      },
      "source": [
        "3. utilizzando le funzioni create precedentemente, scrivere un programma che permetta all'utente di inserire tre liste e di avere il valore massimo della somma degli elementi delle tre liste.\n"
      ]
    },
    {
      "cell_type": "code",
      "metadata": {
        "id": "FsZIymwrY1fU"
      },
      "source": [
        "list1= [int(s)for s in input().split()]\n",
        "list2= [int(s)for s in input().split()]\n",
        "list3= [int(s)for s in input().split()]\n",
        "sommaLista(list1)\n",
        "sommaLista(list2)\n",
        "sommaLista(list3)\n",
        "max(max(sommaLista(list1),sommaLista(list2)),sommaLista(list3))"
      ],
      "execution_count": null,
      "outputs": []
    },
    {
      "cell_type": "markdown",
      "metadata": {
        "id": "lcYp49NHjRen"
      },
      "source": [
        "4. scrivere una funzione chiamata controlla che dato un numero e due estremi restituisca True se il numero è compreso tra i due estremi, false altrimenti. Utilizzare poi la funzione per trovare il numero di elementi di una lista di numeri interi (inserita dall'utente) compresi tra due estremi (inseriti anch'essi dall'utente)\n"
      ]
    },
    {
      "cell_type": "code",
      "metadata": {
        "id": "Ntk1B5N3jTf_"
      },
      "source": [
        "x=(int(input(\"inserire valore minimo: \")))\n",
        "y=(int(input(\"inserire valore massimo: \")))\n",
        "controlla=[i for i in range(x,y)]\n",
        "print(controlla)\n",
        "num=(int(input(\"inserire numero: \")))\n",
        "\n",
        "def verifica(controlla):\n",
        "  return num in controlla\n",
        "print(verifica(controlla))"
      ],
      "execution_count": null,
      "outputs": []
    },
    {
      "cell_type": "markdown",
      "metadata": {
        "id": "FePMhJTzj-qd"
      },
      "source": [
        "5. utilizzare la funzione controlla creata precedentemente per scrivere un programma che, data una lista di numeri interi inserita  dall'utente, carichi in un'altra lista i numeri compresi tra due estremi inseriti anch'essi dall'utente.\n"
      ]
    },
    {
      "cell_type": "code",
      "metadata": {
        "id": "rkWwGJ-gj-Qu"
      },
      "source": [
        ""
      ],
      "execution_count": null,
      "outputs": []
    },
    {
      "cell_type": "markdown",
      "metadata": {
        "id": "xcBwJcMkmdSk"
      },
      "source": [
        "6. scrivere una funzione chiamata confrontaListe che date due liste restituisca True se le due liste sono uguali, False altrimenti. Utilizzare poi la funzione in un programma che dica se una lista di interi è palindroma, cioè se può essere letta indifferentemente da sinistra a destra e da destra a sinistra. Ad esempio la lista [1, 2, 3, 4, 3, 2, 1] è palindroma, la lista [1, 2, 3, 4, 3,1, 2] non lo è.\n"
      ]
    },
    {
      "cell_type": "code",
      "metadata": {
        "id": "uzudqIqCmfHu"
      },
      "source": [
        "def confrontaListe(list1,list2):\n",
        " return list1==list2\n",
        " \n",
        "confrontaListe(list1,list2[::-1])"
      ],
      "execution_count": null,
      "outputs": []
    },
    {
      "cell_type": "markdown",
      "metadata": {
        "id": "dnsPr17rmfwh"
      },
      "source": [
        "7. scrivere una funzione chiamata celsiusToFahrenheit che data una temperatura in gradi Celsius restituisca il valore convertito in gradi Fahrenheit (per ulteriori info, google it). Scrivere poi un programma che data una lista di temperature in gradi Celsius,inserita dall'utente, converta tutte le temperature in gradi Fahrenheit.\n",
        "\n",
        "\n",
        "---\n",
        "\n"
      ]
    },
    {
      "cell_type": "code",
      "metadata": {
        "id": "F9AlFWDvmhnb"
      },
      "source": [
        "def celsiusToFahrenheit(celsius):\n",
        "  calc= (celsius*1.8)+32\n",
        "  return calc\n",
        "celsiusToFahrenheit(int(input(\"inserisci gradi celsius: \")))"
      ],
      "execution_count": null,
      "outputs": []
    },
    {
      "cell_type": "markdown",
      "metadata": {
        "id": "G4VCS6l4migK"
      },
      "source": [
        "8. scrivere una funzione chiamata IMC che calcoli l'Indice di Massa Corporea a partire dal peso (in kg) e dall'altezza (in m). Utilizzare poi la funzione per scrivere un programma che date tre liste, contenente la prima una serie di nomi, la seconda una serie di pesi e la terza una serie di altezze, produca una quarta lista contenente i valori di IMC corrispondenti. Visualizzare poi i risultati nel seguente modo: \"<nome> pesa <peso kg, misura <altezza> m ed ha un IMC di <IMC>\" ( i valori nelle parentesi angolari vanno presi ovviamente dalle liste)\n"
      ]
    },
    {
      "cell_type": "code",
      "metadata": {
        "colab": {
          "base_uri": "https://localhost:8080/",
          "height": 202
        },
        "id": "nH66RhoUmkdM",
        "outputId": "810f56ec-26d9-4b07-9351-87f6d7b2b5f4"
      },
      "source": [
        "def IMC(m,h):\n",
        " nome= [\"Francesco\",\"Dario\",\"Paolo\"]\n",
        "peso= [65,70,60]\n",
        "altezza= [1.75,1.80,1.70]\n",
        "def compose(m, h, n):\n",
        "  res = []\n",
        "  for i in range(len(m)):\n",
        "   res.append('{} pesa  {}  kg, misura  {}  m ed ha un IMC di {}' .format(n[i], m[i], h[i], imc(m[i], h[i])))\n",
        "   return res\n",
        "\n",
        "print('\\n'.join(compose(peso, altezza, nome)))"
      ],
      "execution_count": null,
      "outputs": [
        {
          "output_type": "error",
          "ename": "NameError",
          "evalue": "ignored",
          "traceback": [
            "\u001b[0;31m---------------------------------------------------------------------------\u001b[0m",
            "\u001b[0;31mNameError\u001b[0m                                 Traceback (most recent call last)",
            "\u001b[0;32m<ipython-input-132-a9b3f45973ac>\u001b[0m in \u001b[0;36m<module>\u001b[0;34m()\u001b[0m\n\u001b[1;32m      9\u001b[0m    \u001b[0;32mreturn\u001b[0m \u001b[0mres\u001b[0m\u001b[0;34m\u001b[0m\u001b[0;34m\u001b[0m\u001b[0m\n\u001b[1;32m     10\u001b[0m \u001b[0;34m\u001b[0m\u001b[0m\n\u001b[0;32m---> 11\u001b[0;31m \u001b[0mprint\u001b[0m\u001b[0;34m(\u001b[0m\u001b[0;34m'\\n'\u001b[0m\u001b[0;34m.\u001b[0m\u001b[0mjoin\u001b[0m\u001b[0;34m(\u001b[0m\u001b[0mcompose\u001b[0m\u001b[0;34m(\u001b[0m\u001b[0mpeso\u001b[0m\u001b[0;34m,\u001b[0m \u001b[0maltezza\u001b[0m\u001b[0;34m,\u001b[0m \u001b[0mnome\u001b[0m\u001b[0;34m)\u001b[0m\u001b[0;34m)\u001b[0m\u001b[0;34m)\u001b[0m\u001b[0;34m\u001b[0m\u001b[0;34m\u001b[0m\u001b[0m\n\u001b[0m",
            "\u001b[0;31mNameError\u001b[0m: name 'nome' is not defined"
          ]
        }
      ]
    },
    {
      "cell_type": "markdown",
      "metadata": {
        "id": "UgB58DUlmk4C"
      },
      "source": [
        "9: scrivere una lambda function per estrarre da una lista di numeri interi tutti i valori pari.\n"
      ]
    },
    {
      "cell_type": "code",
      "metadata": {
        "id": "7ah6Algrmmud"
      },
      "source": [
        ""
      ],
      "execution_count": null,
      "outputs": []
    }
  ]
}