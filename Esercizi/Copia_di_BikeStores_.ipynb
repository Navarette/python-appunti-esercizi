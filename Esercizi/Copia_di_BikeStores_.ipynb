{
  "nbformat": 4,
  "nbformat_minor": 0,
  "metadata": {
    "colab": {
      "name": "Copia di BikeStores .ipynb",
      "provenance": [],
      "collapsed_sections": []
    },
    "kernelspec": {
      "name": "python3",
      "display_name": "Python 3"
    },
    "language_info": {
      "name": "python"
    }
  },
  "cells": [
    {
      "cell_type": "code",
      "execution_count": null,
      "metadata": {
        "id": "L0uMc-Vn0rW3"
      },
      "outputs": [],
      "source": [
        "import pandas as pd\n",
        "import matplotlib.pyplot as plt\n",
        "import numpy as np"
      ]
    },
    {
      "cell_type": "markdown",
      "source": [
        "1. visualizzare il numero di prodotti di cui non si conosce l'anno del modello\n"
      ],
      "metadata": {
        "id": "fPVvqQBx1EPd"
      }
    },
    {
      "cell_type": "code",
      "source": [
        "df = pd.read_excel('https://github.com/wtitze/3E/blob/main/BikeStores.xls?raw=true','products')\n",
        "df "
      ],
      "metadata": {
        "colab": {
          "base_uri": "https://localhost:8080/",
          "height": 423
        },
        "id": "YVnMbhye1GBk",
        "outputId": "c3466c58-83a8-40cd-8ce6-c4a91e899c65"
      },
      "execution_count": null,
      "outputs": [
        {
          "output_type": "execute_result",
          "data": {
            "text/html": [
              "<div>\n",
              "<style scoped>\n",
              "    .dataframe tbody tr th:only-of-type {\n",
              "        vertical-align: middle;\n",
              "    }\n",
              "\n",
              "    .dataframe tbody tr th {\n",
              "        vertical-align: top;\n",
              "    }\n",
              "\n",
              "    .dataframe thead th {\n",
              "        text-align: right;\n",
              "    }\n",
              "</style>\n",
              "<table border=\"1\" class=\"dataframe\">\n",
              "  <thead>\n",
              "    <tr style=\"text-align: right;\">\n",
              "      <th></th>\n",
              "      <th>product_id</th>\n",
              "      <th>product_name</th>\n",
              "      <th>brand_id</th>\n",
              "      <th>category_id</th>\n",
              "      <th>model_year</th>\n",
              "      <th>list_price</th>\n",
              "    </tr>\n",
              "  </thead>\n",
              "  <tbody>\n",
              "    <tr>\n",
              "      <th>0</th>\n",
              "      <td>1</td>\n",
              "      <td>Trek 820 - 2016</td>\n",
              "      <td>9</td>\n",
              "      <td>6</td>\n",
              "      <td>2016.0</td>\n",
              "      <td>379.99</td>\n",
              "    </tr>\n",
              "    <tr>\n",
              "      <th>1</th>\n",
              "      <td>2</td>\n",
              "      <td>Ritchey Timberwolf Frameset - 2016</td>\n",
              "      <td>5</td>\n",
              "      <td>6</td>\n",
              "      <td>2016.0</td>\n",
              "      <td>749.99</td>\n",
              "    </tr>\n",
              "    <tr>\n",
              "      <th>2</th>\n",
              "      <td>3</td>\n",
              "      <td>Surly Wednesday Frameset - 2016</td>\n",
              "      <td>8</td>\n",
              "      <td>6</td>\n",
              "      <td>2016.0</td>\n",
              "      <td>999.99</td>\n",
              "    </tr>\n",
              "    <tr>\n",
              "      <th>3</th>\n",
              "      <td>4</td>\n",
              "      <td>Trek Fuel EX 8 29 - 2016</td>\n",
              "      <td>9</td>\n",
              "      <td>6</td>\n",
              "      <td>2016.0</td>\n",
              "      <td>2899.99</td>\n",
              "    </tr>\n",
              "    <tr>\n",
              "      <th>4</th>\n",
              "      <td>5</td>\n",
              "      <td>Heller Shagamaw Frame - 2016</td>\n",
              "      <td>3</td>\n",
              "      <td>6</td>\n",
              "      <td>2016.0</td>\n",
              "      <td>1320.99</td>\n",
              "    </tr>\n",
              "    <tr>\n",
              "      <th>...</th>\n",
              "      <td>...</td>\n",
              "      <td>...</td>\n",
              "      <td>...</td>\n",
              "      <td>...</td>\n",
              "      <td>...</td>\n",
              "      <td>...</td>\n",
              "    </tr>\n",
              "    <tr>\n",
              "      <th>316</th>\n",
              "      <td>317</td>\n",
              "      <td>Trek Checkpoint ALR 5 - 2019</td>\n",
              "      <td>9</td>\n",
              "      <td>7</td>\n",
              "      <td>2019.0</td>\n",
              "      <td>1999.99</td>\n",
              "    </tr>\n",
              "    <tr>\n",
              "      <th>317</th>\n",
              "      <td>318</td>\n",
              "      <td>Trek Checkpoint ALR 5 Women's - 2019</td>\n",
              "      <td>9</td>\n",
              "      <td>7</td>\n",
              "      <td>2019.0</td>\n",
              "      <td>1999.99</td>\n",
              "    </tr>\n",
              "    <tr>\n",
              "      <th>318</th>\n",
              "      <td>319</td>\n",
              "      <td>Trek Checkpoint SL 5 Women's - 2019</td>\n",
              "      <td>9</td>\n",
              "      <td>7</td>\n",
              "      <td>2019.0</td>\n",
              "      <td>2799.99</td>\n",
              "    </tr>\n",
              "    <tr>\n",
              "      <th>319</th>\n",
              "      <td>320</td>\n",
              "      <td>Trek Checkpoint SL 6 - 2019</td>\n",
              "      <td>9</td>\n",
              "      <td>7</td>\n",
              "      <td>2019.0</td>\n",
              "      <td>3799.99</td>\n",
              "    </tr>\n",
              "    <tr>\n",
              "      <th>320</th>\n",
              "      <td>321</td>\n",
              "      <td>Trek Checkpoint ALR Frameset - 2019</td>\n",
              "      <td>9</td>\n",
              "      <td>7</td>\n",
              "      <td>2019.0</td>\n",
              "      <td>3199.99</td>\n",
              "    </tr>\n",
              "  </tbody>\n",
              "</table>\n",
              "<p>321 rows × 6 columns</p>\n",
              "</div>"
            ],
            "text/plain": [
              "     product_id                          product_name  ...  model_year  list_price\n",
              "0             1                       Trek 820 - 2016  ...      2016.0      379.99\n",
              "1             2    Ritchey Timberwolf Frameset - 2016  ...      2016.0      749.99\n",
              "2             3       Surly Wednesday Frameset - 2016  ...      2016.0      999.99\n",
              "3             4              Trek Fuel EX 8 29 - 2016  ...      2016.0     2899.99\n",
              "4             5          Heller Shagamaw Frame - 2016  ...      2016.0     1320.99\n",
              "..          ...                                   ...  ...         ...         ...\n",
              "316         317          Trek Checkpoint ALR 5 - 2019  ...      2019.0     1999.99\n",
              "317         318  Trek Checkpoint ALR 5 Women's - 2019  ...      2019.0     1999.99\n",
              "318         319   Trek Checkpoint SL 5 Women's - 2019  ...      2019.0     2799.99\n",
              "319         320           Trek Checkpoint SL 6 - 2019  ...      2019.0     3799.99\n",
              "320         321   Trek Checkpoint ALR Frameset - 2019  ...      2019.0     3199.99\n",
              "\n",
              "[321 rows x 6 columns]"
            ]
          },
          "metadata": {},
          "execution_count": 92
        }
      ]
    },
    {
      "cell_type": "code",
      "source": [
        "df['model_year'].isna().sum()"
      ],
      "metadata": {
        "colab": {
          "base_uri": "https://localhost:8080/"
        },
        "id": "zjyoIUGB13J7",
        "outputId": "5392b430-23e8-4a1b-f4cc-198810c6781c"
      },
      "execution_count": null,
      "outputs": [
        {
          "output_type": "execute_result",
          "data": {
            "text/plain": [
              "10"
            ]
          },
          "metadata": {},
          "execution_count": 93
        }
      ]
    },
    {
      "cell_type": "markdown",
      "source": [
        "2. eliminare i prodotti del punto precedente dal dataframe\n"
      ],
      "metadata": {
        "id": "PnHi6a-92NMc"
      }
    },
    {
      "cell_type": "code",
      "source": [
        "df = df.dropna()\n",
        "df"
      ],
      "metadata": {
        "colab": {
          "base_uri": "https://localhost:8080/",
          "height": 423
        },
        "id": "4Zz0oHNB4byc",
        "outputId": "8abb1fdb-d91b-40cf-f365-3ce28f091caa"
      },
      "execution_count": null,
      "outputs": [
        {
          "output_type": "execute_result",
          "data": {
            "text/html": [
              "<div>\n",
              "<style scoped>\n",
              "    .dataframe tbody tr th:only-of-type {\n",
              "        vertical-align: middle;\n",
              "    }\n",
              "\n",
              "    .dataframe tbody tr th {\n",
              "        vertical-align: top;\n",
              "    }\n",
              "\n",
              "    .dataframe thead th {\n",
              "        text-align: right;\n",
              "    }\n",
              "</style>\n",
              "<table border=\"1\" class=\"dataframe\">\n",
              "  <thead>\n",
              "    <tr style=\"text-align: right;\">\n",
              "      <th></th>\n",
              "      <th>product_id</th>\n",
              "      <th>product_name</th>\n",
              "      <th>brand_id</th>\n",
              "      <th>category_id</th>\n",
              "      <th>model_year</th>\n",
              "      <th>list_price</th>\n",
              "    </tr>\n",
              "  </thead>\n",
              "  <tbody>\n",
              "    <tr>\n",
              "      <th>0</th>\n",
              "      <td>1</td>\n",
              "      <td>Trek 820 - 2016</td>\n",
              "      <td>9</td>\n",
              "      <td>6</td>\n",
              "      <td>2016.0</td>\n",
              "      <td>379.99</td>\n",
              "    </tr>\n",
              "    <tr>\n",
              "      <th>1</th>\n",
              "      <td>2</td>\n",
              "      <td>Ritchey Timberwolf Frameset - 2016</td>\n",
              "      <td>5</td>\n",
              "      <td>6</td>\n",
              "      <td>2016.0</td>\n",
              "      <td>749.99</td>\n",
              "    </tr>\n",
              "    <tr>\n",
              "      <th>2</th>\n",
              "      <td>3</td>\n",
              "      <td>Surly Wednesday Frameset - 2016</td>\n",
              "      <td>8</td>\n",
              "      <td>6</td>\n",
              "      <td>2016.0</td>\n",
              "      <td>999.99</td>\n",
              "    </tr>\n",
              "    <tr>\n",
              "      <th>3</th>\n",
              "      <td>4</td>\n",
              "      <td>Trek Fuel EX 8 29 - 2016</td>\n",
              "      <td>9</td>\n",
              "      <td>6</td>\n",
              "      <td>2016.0</td>\n",
              "      <td>2899.99</td>\n",
              "    </tr>\n",
              "    <tr>\n",
              "      <th>4</th>\n",
              "      <td>5</td>\n",
              "      <td>Heller Shagamaw Frame - 2016</td>\n",
              "      <td>3</td>\n",
              "      <td>6</td>\n",
              "      <td>2016.0</td>\n",
              "      <td>1320.99</td>\n",
              "    </tr>\n",
              "    <tr>\n",
              "      <th>...</th>\n",
              "      <td>...</td>\n",
              "      <td>...</td>\n",
              "      <td>...</td>\n",
              "      <td>...</td>\n",
              "      <td>...</td>\n",
              "      <td>...</td>\n",
              "    </tr>\n",
              "    <tr>\n",
              "      <th>316</th>\n",
              "      <td>317</td>\n",
              "      <td>Trek Checkpoint ALR 5 - 2019</td>\n",
              "      <td>9</td>\n",
              "      <td>7</td>\n",
              "      <td>2019.0</td>\n",
              "      <td>1999.99</td>\n",
              "    </tr>\n",
              "    <tr>\n",
              "      <th>317</th>\n",
              "      <td>318</td>\n",
              "      <td>Trek Checkpoint ALR 5 Women's - 2019</td>\n",
              "      <td>9</td>\n",
              "      <td>7</td>\n",
              "      <td>2019.0</td>\n",
              "      <td>1999.99</td>\n",
              "    </tr>\n",
              "    <tr>\n",
              "      <th>318</th>\n",
              "      <td>319</td>\n",
              "      <td>Trek Checkpoint SL 5 Women's - 2019</td>\n",
              "      <td>9</td>\n",
              "      <td>7</td>\n",
              "      <td>2019.0</td>\n",
              "      <td>2799.99</td>\n",
              "    </tr>\n",
              "    <tr>\n",
              "      <th>319</th>\n",
              "      <td>320</td>\n",
              "      <td>Trek Checkpoint SL 6 - 2019</td>\n",
              "      <td>9</td>\n",
              "      <td>7</td>\n",
              "      <td>2019.0</td>\n",
              "      <td>3799.99</td>\n",
              "    </tr>\n",
              "    <tr>\n",
              "      <th>320</th>\n",
              "      <td>321</td>\n",
              "      <td>Trek Checkpoint ALR Frameset - 2019</td>\n",
              "      <td>9</td>\n",
              "      <td>7</td>\n",
              "      <td>2019.0</td>\n",
              "      <td>3199.99</td>\n",
              "    </tr>\n",
              "  </tbody>\n",
              "</table>\n",
              "<p>311 rows × 6 columns</p>\n",
              "</div>"
            ],
            "text/plain": [
              "     product_id                          product_name  ...  model_year  list_price\n",
              "0             1                       Trek 820 - 2016  ...      2016.0      379.99\n",
              "1             2    Ritchey Timberwolf Frameset - 2016  ...      2016.0      749.99\n",
              "2             3       Surly Wednesday Frameset - 2016  ...      2016.0      999.99\n",
              "3             4              Trek Fuel EX 8 29 - 2016  ...      2016.0     2899.99\n",
              "4             5          Heller Shagamaw Frame - 2016  ...      2016.0     1320.99\n",
              "..          ...                                   ...  ...         ...         ...\n",
              "316         317          Trek Checkpoint ALR 5 - 2019  ...      2019.0     1999.99\n",
              "317         318  Trek Checkpoint ALR 5 Women's - 2019  ...      2019.0     1999.99\n",
              "318         319   Trek Checkpoint SL 5 Women's - 2019  ...      2019.0     2799.99\n",
              "319         320           Trek Checkpoint SL 6 - 2019  ...      2019.0     3799.99\n",
              "320         321   Trek Checkpoint ALR Frameset - 2019  ...      2019.0     3199.99\n",
              "\n",
              "[311 rows x 6 columns]"
            ]
          },
          "metadata": {},
          "execution_count": 94
        }
      ]
    },
    {
      "cell_type": "markdown",
      "source": [
        "3. contare i prodotti che sono stati presenteti (model_year) nel 2017\n"
      ],
      "metadata": {
        "id": "bevi55lh2PeG"
      }
    },
    {
      "cell_type": "code",
      "source": [
        "df[df['model_year']==2017].count()['product_name']"
      ],
      "metadata": {
        "colab": {
          "base_uri": "https://localhost:8080/"
        },
        "id": "hwpqlq8H5azT",
        "outputId": "99e2cbd1-dd86-402a-896a-490a734b82dc"
      },
      "execution_count": null,
      "outputs": [
        {
          "output_type": "execute_result",
          "data": {
            "text/plain": [
              "85"
            ]
          },
          "metadata": {},
          "execution_count": 95
        }
      ]
    },
    {
      "cell_type": "markdown",
      "source": [
        "4. visualizzare i prodotti che hanno un category_id compreso tra 2 e 4 (estemi inclusi)\n"
      ],
      "metadata": {
        "id": "PNsLFazc6AyH"
      }
    },
    {
      "cell_type": "code",
      "source": [
        "df.loc[(df['category_id']>2) & (df['category_id']<4)]"
      ],
      "metadata": {
        "colab": {
          "base_uri": "https://localhost:8080/",
          "height": 423
        },
        "id": "8pLb98y17TAL",
        "outputId": "2b4cb2b2-b806-4115-9759-25394f587381"
      },
      "execution_count": null,
      "outputs": [
        {
          "output_type": "execute_result",
          "data": {
            "text/html": [
              "<div>\n",
              "<style scoped>\n",
              "    .dataframe tbody tr th:only-of-type {\n",
              "        vertical-align: middle;\n",
              "    }\n",
              "\n",
              "    .dataframe tbody tr th {\n",
              "        vertical-align: top;\n",
              "    }\n",
              "\n",
              "    .dataframe thead th {\n",
              "        text-align: right;\n",
              "    }\n",
              "</style>\n",
              "<table border=\"1\" class=\"dataframe\">\n",
              "  <thead>\n",
              "    <tr style=\"text-align: right;\">\n",
              "      <th></th>\n",
              "      <th>product_id</th>\n",
              "      <th>product_name</th>\n",
              "      <th>brand_id</th>\n",
              "      <th>category_id</th>\n",
              "      <th>model_year</th>\n",
              "      <th>list_price</th>\n",
              "    </tr>\n",
              "  </thead>\n",
              "  <tbody>\n",
              "    <tr>\n",
              "      <th>11</th>\n",
              "      <td>12</td>\n",
              "      <td>Electra Townie Original 21D - 2016</td>\n",
              "      <td>1</td>\n",
              "      <td>3</td>\n",
              "      <td>2016.0</td>\n",
              "      <td>549.99</td>\n",
              "    </tr>\n",
              "    <tr>\n",
              "      <th>12</th>\n",
              "      <td>13</td>\n",
              "      <td>Electra Cruiser 1 (24-Inch) - 2016</td>\n",
              "      <td>1</td>\n",
              "      <td>3</td>\n",
              "      <td>2016.0</td>\n",
              "      <td>269.99</td>\n",
              "    </tr>\n",
              "    <tr>\n",
              "      <th>13</th>\n",
              "      <td>14</td>\n",
              "      <td>Electra Girl's Hawaii 1 (16-inch) - 2015/2016</td>\n",
              "      <td>1</td>\n",
              "      <td>3</td>\n",
              "      <td>2016.0</td>\n",
              "      <td>269.99</td>\n",
              "    </tr>\n",
              "    <tr>\n",
              "      <th>14</th>\n",
              "      <td>15</td>\n",
              "      <td>Electra Moto 1 - 2016</td>\n",
              "      <td>1</td>\n",
              "      <td>3</td>\n",
              "      <td>2016.0</td>\n",
              "      <td>529.99</td>\n",
              "    </tr>\n",
              "    <tr>\n",
              "      <th>15</th>\n",
              "      <td>16</td>\n",
              "      <td>Electra Townie Original 7D EQ - 2016</td>\n",
              "      <td>1</td>\n",
              "      <td>3</td>\n",
              "      <td>2016.0</td>\n",
              "      <td>599.99</td>\n",
              "    </tr>\n",
              "    <tr>\n",
              "      <th>...</th>\n",
              "      <td>...</td>\n",
              "      <td>...</td>\n",
              "      <td>...</td>\n",
              "      <td>...</td>\n",
              "      <td>...</td>\n",
              "      <td>...</td>\n",
              "    </tr>\n",
              "    <tr>\n",
              "      <th>256</th>\n",
              "      <td>257</td>\n",
              "      <td>Electra Amsterdam Fashion 3i Ladies' - 2017/2018</td>\n",
              "      <td>1</td>\n",
              "      <td>3</td>\n",
              "      <td>2018.0</td>\n",
              "      <td>899.99</td>\n",
              "    </tr>\n",
              "    <tr>\n",
              "      <th>257</th>\n",
              "      <td>258</td>\n",
              "      <td>Electra Amsterdam Royal 8i - 2017/2018</td>\n",
              "      <td>1</td>\n",
              "      <td>3</td>\n",
              "      <td>2018.0</td>\n",
              "      <td>1259.90</td>\n",
              "    </tr>\n",
              "    <tr>\n",
              "      <th>258</th>\n",
              "      <td>259</td>\n",
              "      <td>Electra Amsterdam Royal 8i Ladies - 2018</td>\n",
              "      <td>1</td>\n",
              "      <td>3</td>\n",
              "      <td>2018.0</td>\n",
              "      <td>1199.99</td>\n",
              "    </tr>\n",
              "    <tr>\n",
              "      <th>259</th>\n",
              "      <td>260</td>\n",
              "      <td>Electra Townie Balloon 3i EQ Ladies' - 2018</td>\n",
              "      <td>1</td>\n",
              "      <td>3</td>\n",
              "      <td>2018.0</td>\n",
              "      <td>799.99</td>\n",
              "    </tr>\n",
              "    <tr>\n",
              "      <th>260</th>\n",
              "      <td>261</td>\n",
              "      <td>Electra Townie Balloon 7i EQ - 2018</td>\n",
              "      <td>1</td>\n",
              "      <td>3</td>\n",
              "      <td>2018.0</td>\n",
              "      <td>899.99</td>\n",
              "    </tr>\n",
              "  </tbody>\n",
              "</table>\n",
              "<p>76 rows × 6 columns</p>\n",
              "</div>"
            ],
            "text/plain": [
              "     product_id  ... list_price\n",
              "11           12  ...     549.99\n",
              "12           13  ...     269.99\n",
              "13           14  ...     269.99\n",
              "14           15  ...     529.99\n",
              "15           16  ...     599.99\n",
              "..          ...  ...        ...\n",
              "256         257  ...     899.99\n",
              "257         258  ...    1259.90\n",
              "258         259  ...    1199.99\n",
              "259         260  ...     799.99\n",
              "260         261  ...     899.99\n",
              "\n",
              "[76 rows x 6 columns]"
            ]
          },
          "metadata": {},
          "execution_count": 96
        }
      ]
    },
    {
      "cell_type": "markdown",
      "source": [
        "5. visualizzare i prodotti che hanno la parola Trek nel nome\n"
      ],
      "metadata": {
        "id": "mFi8iKvp6Ckk"
      }
    },
    {
      "cell_type": "code",
      "source": [
        "df[df['product_name'].str.contains('Trek')]"
      ],
      "metadata": {
        "colab": {
          "base_uri": "https://localhost:8080/",
          "height": 423
        },
        "id": "ruiQ5O-Z6Ey0",
        "outputId": "69e9e373-9e69-40a0-c238-6dd9e7f634ff"
      },
      "execution_count": null,
      "outputs": [
        {
          "output_type": "execute_result",
          "data": {
            "text/html": [
              "<div>\n",
              "<style scoped>\n",
              "    .dataframe tbody tr th:only-of-type {\n",
              "        vertical-align: middle;\n",
              "    }\n",
              "\n",
              "    .dataframe tbody tr th {\n",
              "        vertical-align: top;\n",
              "    }\n",
              "\n",
              "    .dataframe thead th {\n",
              "        text-align: right;\n",
              "    }\n",
              "</style>\n",
              "<table border=\"1\" class=\"dataframe\">\n",
              "  <thead>\n",
              "    <tr style=\"text-align: right;\">\n",
              "      <th></th>\n",
              "      <th>product_id</th>\n",
              "      <th>product_name</th>\n",
              "      <th>brand_id</th>\n",
              "      <th>category_id</th>\n",
              "      <th>model_year</th>\n",
              "      <th>list_price</th>\n",
              "    </tr>\n",
              "  </thead>\n",
              "  <tbody>\n",
              "    <tr>\n",
              "      <th>0</th>\n",
              "      <td>1</td>\n",
              "      <td>Trek 820 - 2016</td>\n",
              "      <td>9</td>\n",
              "      <td>6</td>\n",
              "      <td>2016.0</td>\n",
              "      <td>379.99</td>\n",
              "    </tr>\n",
              "    <tr>\n",
              "      <th>3</th>\n",
              "      <td>4</td>\n",
              "      <td>Trek Fuel EX 8 29 - 2016</td>\n",
              "      <td>9</td>\n",
              "      <td>6</td>\n",
              "      <td>2016.0</td>\n",
              "      <td>2899.99</td>\n",
              "    </tr>\n",
              "    <tr>\n",
              "      <th>6</th>\n",
              "      <td>7</td>\n",
              "      <td>Trek Slash 8 27.5 - 2016</td>\n",
              "      <td>9</td>\n",
              "      <td>6</td>\n",
              "      <td>2016.0</td>\n",
              "      <td>3999.99</td>\n",
              "    </tr>\n",
              "    <tr>\n",
              "      <th>7</th>\n",
              "      <td>8</td>\n",
              "      <td>Trek Remedy 29 Carbon Frameset - 2016</td>\n",
              "      <td>9</td>\n",
              "      <td>6</td>\n",
              "      <td>2016.0</td>\n",
              "      <td>1799.99</td>\n",
              "    </tr>\n",
              "    <tr>\n",
              "      <th>28</th>\n",
              "      <td>29</td>\n",
              "      <td>Trek X-Caliber 8 - 2017</td>\n",
              "      <td>9</td>\n",
              "      <td>6</td>\n",
              "      <td>2017.0</td>\n",
              "      <td>999.99</td>\n",
              "    </tr>\n",
              "    <tr>\n",
              "      <th>...</th>\n",
              "      <td>...</td>\n",
              "      <td>...</td>\n",
              "      <td>...</td>\n",
              "      <td>...</td>\n",
              "      <td>...</td>\n",
              "      <td>...</td>\n",
              "    </tr>\n",
              "    <tr>\n",
              "      <th>316</th>\n",
              "      <td>317</td>\n",
              "      <td>Trek Checkpoint ALR 5 - 2019</td>\n",
              "      <td>9</td>\n",
              "      <td>7</td>\n",
              "      <td>2019.0</td>\n",
              "      <td>1999.99</td>\n",
              "    </tr>\n",
              "    <tr>\n",
              "      <th>317</th>\n",
              "      <td>318</td>\n",
              "      <td>Trek Checkpoint ALR 5 Women's - 2019</td>\n",
              "      <td>9</td>\n",
              "      <td>7</td>\n",
              "      <td>2019.0</td>\n",
              "      <td>1999.99</td>\n",
              "    </tr>\n",
              "    <tr>\n",
              "      <th>318</th>\n",
              "      <td>319</td>\n",
              "      <td>Trek Checkpoint SL 5 Women's - 2019</td>\n",
              "      <td>9</td>\n",
              "      <td>7</td>\n",
              "      <td>2019.0</td>\n",
              "      <td>2799.99</td>\n",
              "    </tr>\n",
              "    <tr>\n",
              "      <th>319</th>\n",
              "      <td>320</td>\n",
              "      <td>Trek Checkpoint SL 6 - 2019</td>\n",
              "      <td>9</td>\n",
              "      <td>7</td>\n",
              "      <td>2019.0</td>\n",
              "      <td>3799.99</td>\n",
              "    </tr>\n",
              "    <tr>\n",
              "      <th>320</th>\n",
              "      <td>321</td>\n",
              "      <td>Trek Checkpoint ALR Frameset - 2019</td>\n",
              "      <td>9</td>\n",
              "      <td>7</td>\n",
              "      <td>2019.0</td>\n",
              "      <td>3199.99</td>\n",
              "    </tr>\n",
              "  </tbody>\n",
              "</table>\n",
              "<p>131 rows × 6 columns</p>\n",
              "</div>"
            ],
            "text/plain": [
              "     product_id                           product_name  ...  model_year  list_price\n",
              "0             1                        Trek 820 - 2016  ...      2016.0      379.99\n",
              "3             4               Trek Fuel EX 8 29 - 2016  ...      2016.0     2899.99\n",
              "6             7               Trek Slash 8 27.5 - 2016  ...      2016.0     3999.99\n",
              "7             8  Trek Remedy 29 Carbon Frameset - 2016  ...      2016.0     1799.99\n",
              "28           29                Trek X-Caliber 8 - 2017  ...      2017.0      999.99\n",
              "..          ...                                    ...  ...         ...         ...\n",
              "316         317           Trek Checkpoint ALR 5 - 2019  ...      2019.0     1999.99\n",
              "317         318   Trek Checkpoint ALR 5 Women's - 2019  ...      2019.0     1999.99\n",
              "318         319    Trek Checkpoint SL 5 Women's - 2019  ...      2019.0     2799.99\n",
              "319         320            Trek Checkpoint SL 6 - 2019  ...      2019.0     3799.99\n",
              "320         321    Trek Checkpoint ALR Frameset - 2019  ...      2019.0     3199.99\n",
              "\n",
              "[131 rows x 6 columns]"
            ]
          },
          "metadata": {},
          "execution_count": 97
        }
      ]
    },
    {
      "cell_type": "markdown",
      "source": [
        "6. visualizzare il numero di prodotti per ogni categoria (visualizzare il numero della categoria e il numero di prodotti)\n"
      ],
      "metadata": {
        "id": "LQA72ZQy9Pwt"
      }
    },
    {
      "cell_type": "code",
      "source": [
        "df1 = df.groupby('category_id')['product_name'].count()\n",
        "df1"
      ],
      "metadata": {
        "colab": {
          "base_uri": "https://localhost:8080/"
        },
        "id": "lhGItrnW9Rib",
        "outputId": "8963faf0-f68d-46c4-d78c-49eb3f14c62e"
      },
      "execution_count": null,
      "outputs": [
        {
          "output_type": "execute_result",
          "data": {
            "text/plain": [
              "category_id\n",
              "1    57\n",
              "2    28\n",
              "3    76\n",
              "4    10\n",
              "5    22\n",
              "6    59\n",
              "7    59\n",
              "Name: product_name, dtype: int64"
            ]
          },
          "metadata": {},
          "execution_count": 98
        }
      ]
    },
    {
      "cell_type": "markdown",
      "source": [
        "7. visualizzare le categorie che hanno più di 50 prodotti visualizzare il numero della categoria e il numero di prodotti)\n"
      ],
      "metadata": {
        "id": "zmGOqLsC90Az"
      }
    },
    {
      "cell_type": "code",
      "source": [
        "df1 = df.groupby('category_id').count()\n",
        "df1[df1[\"product_name\"] > 50].reset_index()[['category_id', 'product_id']]"
      ],
      "metadata": {
        "id": "MXGyV01791cp",
        "colab": {
          "base_uri": "https://localhost:8080/",
          "height": 175
        },
        "outputId": "54e44bc2-4f23-458d-a51d-2214b56f92ec"
      },
      "execution_count": null,
      "outputs": [
        {
          "output_type": "execute_result",
          "data": {
            "text/html": [
              "<div>\n",
              "<style scoped>\n",
              "    .dataframe tbody tr th:only-of-type {\n",
              "        vertical-align: middle;\n",
              "    }\n",
              "\n",
              "    .dataframe tbody tr th {\n",
              "        vertical-align: top;\n",
              "    }\n",
              "\n",
              "    .dataframe thead th {\n",
              "        text-align: right;\n",
              "    }\n",
              "</style>\n",
              "<table border=\"1\" class=\"dataframe\">\n",
              "  <thead>\n",
              "    <tr style=\"text-align: right;\">\n",
              "      <th></th>\n",
              "      <th>category_id</th>\n",
              "      <th>product_id</th>\n",
              "    </tr>\n",
              "  </thead>\n",
              "  <tbody>\n",
              "    <tr>\n",
              "      <th>0</th>\n",
              "      <td>1</td>\n",
              "      <td>57</td>\n",
              "    </tr>\n",
              "    <tr>\n",
              "      <th>1</th>\n",
              "      <td>3</td>\n",
              "      <td>76</td>\n",
              "    </tr>\n",
              "    <tr>\n",
              "      <th>2</th>\n",
              "      <td>6</td>\n",
              "      <td>59</td>\n",
              "    </tr>\n",
              "    <tr>\n",
              "      <th>3</th>\n",
              "      <td>7</td>\n",
              "      <td>59</td>\n",
              "    </tr>\n",
              "  </tbody>\n",
              "</table>\n",
              "</div>"
            ],
            "text/plain": [
              "   category_id  product_id\n",
              "0            1          57\n",
              "1            3          76\n",
              "2            6          59\n",
              "3            7          59"
            ]
          },
          "metadata": {},
          "execution_count": 99
        }
      ]
    },
    {
      "cell_type": "markdown",
      "source": [
        "8, visualizzare uno stacked bar chart che riporti il numero di prodotti presentati per ogni anno in ogni categoria. Il grafico deve presentare sulle ascisse il numero della categoria e sulle ordinate il numero di prodotti, divisi per anno\n"
      ],
      "metadata": {
        "id": "MgCTLkU3963M"
      }
    },
    {
      "cell_type": "code",
      "source": [
        "\n"
      ],
      "metadata": {
        "id": "NEXz5PZ_98i8"
      },
      "execution_count": null,
      "outputs": []
    },
    {
      "cell_type": "markdown",
      "source": [
        "9. visualizzare un pie chart che riporti in numero di prodotti presentati in ogni anno.\n"
      ],
      "metadata": {
        "id": "L42st9e698p2"
      }
    },
    {
      "cell_type": "code",
      "source": [
        "df2 = df.groupby('model_year').count()['product_name']\n",
        "df2"
      ],
      "metadata": {
        "colab": {
          "base_uri": "https://localhost:8080/"
        },
        "id": "61-4OKd0bHUY",
        "outputId": "6989a6fd-45b9-473f-8355-d4c869b10fb8"
      },
      "execution_count": null,
      "outputs": [
        {
          "output_type": "execute_result",
          "data": {
            "text/plain": [
              "model_year\n",
              "2016.0     25\n",
              "2017.0     85\n",
              "2018.0    195\n",
              "2019.0      6\n",
              "Name: product_name, dtype: int64"
            ]
          },
          "metadata": {},
          "execution_count": 100
        }
      ]
    },
    {
      "cell_type": "code",
      "source": [
        "fig = plt.figure()\n",
        "ax = plt.axes()\n",
        "ax.pie(df2.values,autopct='%1.1f%%')\n",
        "plt.show()"
      ],
      "metadata": {
        "id": "uV2bXCkH-AoT",
        "colab": {
          "base_uri": "https://localhost:8080/",
          "height": 248
        },
        "outputId": "2e68a5e2-b0da-4f88-c3f0-7aa8aacc24cb"
      },
      "execution_count": null,
      "outputs": [
        {
          "output_type": "display_data",
          "data": {
            "image/png": "[encoded data removed]",
            "text/plain": [
              "<Figure size 432x288 with 1 Axes>"
            ]
          },
          "metadata": {}
        }
      ]
    },
    {
      "cell_type": "markdown",
      "source": [
        "10. salvare in un file png i due grafici affiancati\n"
      ],
      "metadata": {
        "id": "XoIudAaW9-Y0"
      }
    },
    {
      "cell_type": "code",
      "source": [
        "plt.savefig('file.png')"
      ],
      "metadata": {
        "id": "Q21HxMBi-AF0",
        "colab": {
          "base_uri": "https://localhost:8080/",
          "height": 35
        },
        "outputId": "ee503739-6875-4c42-ee2c-32aea16aba4f"
      },
      "execution_count": null,
      "outputs": [
        {
          "output_type": "display_data",
          "data": {
            "text/plain": [
              "<Figure size 432x288 with 0 Axes>"
            ]
          },
          "metadata": {}
        }
      ]
    }
  ]
}