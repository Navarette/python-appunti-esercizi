{
  "nbformat": 4,
  "nbformat_minor": 0,
  "metadata": {
    "colab": {
      "name": "Copia di esercizio 3",
      "provenance": [],
      "collapsed_sections": []
    },
    "kernelspec": {
      "name": "python3",
      "display_name": "Python 3"
    },
    "language_info": {
      "name": "python"
    }
  },
  "cells": [
    {
      "cell_type": "markdown",
      "metadata": {
        "id": "2bYobDq-xA4z"
      },
      "source": [
        "1 Scrivere un programma che crei un dizionario contenente i nomi delle regioni e i nomi dei loro capoluoghi. Il nome della regione deve essere il campo chiave. Chiamare il dizionario capoluoghiRegione"
      ]
    },
    {
      "cell_type": "code",
      "metadata": {
        "id": "D0NdaSsFvpjk"
      },
      "source": [
        "capoluoghiRegione={\"Lazio\":\"Roma\",\"Lombardia\":\"Milano\",\"Campania\":\"Napoli\",\"Piemonte\":\"Torino\",\"Sicilia\":\"Palermo\",\"Liguria\":\"Genova\",\"Emilia-Romagna\":\"Bologna\",\"Toscana\":\"Firenze\",\"Puglia\":\"Bari\",\"Veneto\":\"Venezia\",\"Friuli-Venezia Giulia\":\"Trieste\",\"Umbria\":\"Perugia\",\"Sardegna\":\"Cagliari\",\"Trentino-Alto Adige\":\"Trento\",\"Marche\":\"Ancona\",\"Calabria\":\"Catanzaro\",\"Abruzzo\":\"L'Aquila\",\"Basilicata\":\"Potenza\",\"Molise\":\"Campobasso\",\"Valle d'Aosta\":\"Aosta\"}"
      ],
      "execution_count": null,
      "outputs": []
    },
    {
      "cell_type": "markdown",
      "metadata": {
        "id": "XDTT3J1Y0JBz"
      },
      "source": [
        "2 Scrivere un programma che visualizzi tutti i nomi delle regioni presenti in capoluoghiRegione\n"
      ]
    },
    {
      "cell_type": "code",
      "metadata": {
        "colab": {
          "base_uri": "https://localhost:8080/"
        },
        "id": "zDsvmrBx0Myq",
        "outputId": "28449387-3820-4a0d-d638-2ba5c84a4d8c"
      },
      "source": [
        "regioni={k for k in capoluoghiRegione.keys()}\n",
        "print(regioni)"
      ],
      "execution_count": null,
      "outputs": [
        {
          "output_type": "stream",
          "name": "stdout",
          "text": [
            "{'Toscana', 'Abruzzo', 'Campania', 'Piemonte', 'Basilicata', 'Umbria', 'Calabria', \"Valle d'Aosta\", 'Friuli-Venezia Giulia', 'Lombardia', 'Emilia-Romagna', 'Molise', 'Veneto', 'Marche', 'Puglia', 'Liguria', 'Sicilia', 'Sardegna', 'Lazio', 'Trentino-Alto Adige'}\n"
          ]
        }
      ]
    },
    {
      "cell_type": "markdown",
      "metadata": {
        "id": "26-VjPMW1k_m"
      },
      "source": [
        "3 Scrivere un programma che visualizzi tutti i nomi dei capoluoghi di regione presenti in capoluoghiRegione \n"
      ]
    },
    {
      "cell_type": "code",
      "metadata": {
        "colab": {
          "base_uri": "https://localhost:8080/"
        },
        "id": "-dYKJCeb1n_d",
        "outputId": "5181429b-1d3a-4ae9-d6d7-f4b3d90dff39"
      },
      "source": [
        "capoluoghi={v for v in capoluoghiRegione.values()}\n",
        "print(capoluoghi)"
      ],
      "execution_count": null,
      "outputs": [
        {
          "output_type": "stream",
          "name": "stdout",
          "text": [
            "{'Bologna', 'Napoli', 'Catanzaro', 'Firenze', '    Torino', 'Trento', 'Genova', 'Perugia', 'Aosta', '    Bari', 'Cagliari', 'Roma', '    Palermo', ' L Aquila', 'Campobasso', 'Trieste', 'Milano', 'Potenza', 'Ancona', 'Venezia'}\n"
          ]
        }
      ]
    },
    {
      "cell_type": "markdown",
      "metadata": {
        "id": "7vPxSUig18Q0"
      },
      "source": [
        "4 Scrivere un programma che acquisisca dall’utente il nome di una regione e fornisca il nome del suo capoluogo.\n"
      ]
    },
    {
      "cell_type": "code",
      "metadata": {
        "id": "T2Dn1LuV2AaM"
      },
      "source": [
        "InputUtente=input()\n",
        "if InputUtente in regioni:\n",
        "  print(capoluoghiRegione[InputUtente])"
      ],
      "execution_count": null,
      "outputs": []
    },
    {
      "cell_type": "markdown",
      "metadata": {
        "id": "AjJweTcp3UYs"
      },
      "source": [
        "5 Scrivere un programma che acquisisca dall’utente il nome di un capoluogo e fornisca il nome della regione a cui appartiene.\n"
      ]
    },
    {
      "cell_type": "code",
      "metadata": {
        "id": "e4PIvkDI3XB0"
      },
      "source": [
        "InputUtente1=input()\n",
        "for regione,capoluoghi in capoluoghiRegione.items():\n",
        "  if capoluoghi==InputUtente1:\n",
        "    print(regione)"
      ],
      "execution_count": null,
      "outputs": []
    },
    {
      "cell_type": "markdown",
      "metadata": {
        "id": "G4yA02py4WGd"
      },
      "source": [
        "6 Scrivere un programma che visualizzi tutte le regioni con i rispettivi capoluoghi\n"
      ]
    },
    {
      "cell_type": "code",
      "metadata": {
        "id": "IIr3_bJQ4ZDk"
      },
      "source": [
        "print(capoluoghiRegione)"
      ],
      "execution_count": null,
      "outputs": []
    },
    {
      "cell_type": "markdown",
      "metadata": {
        "id": "yTpYxw0I5RAd"
      },
      "source": [
        "7 Scrivere un programma che visualizzi tutte le regioni con i rispettivi capoluoghi. Ordinare le regioni in ordine alfabetico\n"
      ]
    },
    {
      "cell_type": "code",
      "metadata": {
        "id": "oY494F085UQU"
      },
      "source": [
        "capoluoghiRegione = {'Abruzzo':' L Aquila','Basilicata':'Potenza','Calabria':'Catanzaro','Campania':'Napoli','Emilia-Romagna':'Bologna','Friuli-Venezia Giulia':'Trieste','Lazio':'Roma','Liguria':'Genova','Lombardia':'Milano','Marche':'Ancona','Molise':'Campobasso','Piemonte':'    Torino','Puglia':'    Bari','Sardegna':'Cagliari','Sicilia':'    Palermo','Toscana':'Firenze','Trentino-Alto Adige':'Trento','Umbria':'Perugia','Valle d Aosta':'Aosta','Veneto':'Venezia',}\n",
        "print(capoluoghiRegione)\n",
        "regioni = { k for k in capoluoghiRegione.keys() } \n",
        "print(sorted(regioni))"
      ],
      "execution_count": null,
      "outputs": []
    },
    {
      "cell_type": "markdown",
      "metadata": {
        "id": "2bU-BfCtTUTX"
      },
      "source": [
        "8 Scrivere un programma che visualizzi tutte le regioni con i rispettivi capoluoghi. Ordinare i capoluoghi in ordine alfabetico"
      ]
    },
    {
      "cell_type": "code",
      "metadata": {
        "id": "cUh13u47Ujzn"
      },
      "source": [
        ""
      ],
      "execution_count": null,
      "outputs": []
    },
    {
      "cell_type": "markdown",
      "metadata": {
        "id": "idy5918UYAhf"
      },
      "source": [
        "9 Scrivere un programma che carichi in una lista i nomi delle regioni e in un’altra lista i nomi dei rispettivi capoluoghi. Scrivere poi l’istruzione che permette di costruire il dizionario a partire dalle due liste."
      ]
    },
    {
      "cell_type": "code",
      "metadata": {
        "id": "OdZHCX5pYC6-"
      },
      "source": [
        "regioni=['Toscana', 'Abruzzo', 'Campania', 'Piemonte', 'Basilicata', 'Umbria', 'Calabria', \"Valle d'Aosta\", 'Friuli-Venezia Giulia', 'Lombardia', 'Emilia-Romagna', 'Molise', 'Veneto', 'Marche', 'Puglia', 'Liguria', 'Sicilia', 'Sardegna', 'Lazio', 'Trentino-Alto Adige'\n",
        "]\n",
        "capoluoghi=[\"Firenze\",\"L'Aquila\",\"Napoli\",\"Torino\",\"Potenza\",\"Perugia\",\"Catanzaro\",\"Aosta\",\"Trieste\",\"Milano\",\"Bologna\",\"Campobasso\",\"Venezia\",\"Ancona\",\"Bari\",\"Genova\",\"Palermo\",\"Cagliari\",\"Roma\",\"Trento\"]\n",
        "dizionario=[ (regioni,capoluoghi) for regioni,capoluoghi in zip(regioni,capoluoghi)] \n",
        "print(dizionario)"
      ],
      "execution_count": null,
      "outputs": []
    }
  ]
}
