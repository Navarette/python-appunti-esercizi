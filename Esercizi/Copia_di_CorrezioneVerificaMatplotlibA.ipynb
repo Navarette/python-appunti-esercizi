{
  "nbformat": 4,
  "nbformat_minor": 0,
  "metadata": {
    "colab": {
      "name": "Copia di CorrezioneVerificaMatplotlibA.ipynb",
      "provenance": []
    },
    "kernelspec": {
      "name": "python3",
      "display_name": "Python 3"
    },
    "language_info": {
      "name": "python"
    }
  },
  "cells": [
    {
      "cell_type": "code",
      "metadata": {
        "colab": {
          "base_uri": "https://localhost:8080/",
          "height": 424
        },
        "id": "vdTXfWoIrpTB",
        "outputId": "c36e7b17-827f-46e6-f6d7-3747d60c84b3"
      },
      "source": [
        "import pandas as pd \n",
        "import matplotlib.pyplot as plt\n",
        "df = pd.read_csv('https://raw.githubusercontent.com/italia/covid19-opendata-vaccini/master/dati/platea.csv')\n",
        "df"
      ],
      "execution_count": null,
      "outputs": [
        {
          "output_type": "execute_result",
          "data": {
            "text/html": [
              "<div>\n",
              "<style scoped>\n",
              "    .dataframe tbody tr th:only-of-type {\n",
              "        vertical-align: middle;\n",
              "    }\n",
              "\n",
              "    .dataframe tbody tr th {\n",
              "        vertical-align: top;\n",
              "    }\n",
              "\n",
              "    .dataframe thead th {\n",
              "        text-align: right;\n",
              "    }\n",
              "</style>\n",
              "<table border=\"1\" class=\"dataframe\">\n",
              "  <thead>\n",
              "    <tr style=\"text-align: right;\">\n",
              "      <th></th>\n",
              "      <th>area</th>\n",
              "      <th>nome_area</th>\n",
              "      <th>fascia_anagrafica</th>\n",
              "      <th>totale_popolazione</th>\n",
              "    </tr>\n",
              "  </thead>\n",
              "  <tbody>\n",
              "    <tr>\n",
              "      <th>0</th>\n",
              "      <td>ABR</td>\n",
              "      <td>Abruzzo</td>\n",
              "      <td>12-19</td>\n",
              "      <td>94727</td>\n",
              "    </tr>\n",
              "    <tr>\n",
              "      <th>1</th>\n",
              "      <td>ABR</td>\n",
              "      <td>Abruzzo</td>\n",
              "      <td>20-29</td>\n",
              "      <td>125230</td>\n",
              "    </tr>\n",
              "    <tr>\n",
              "      <th>2</th>\n",
              "      <td>ABR</td>\n",
              "      <td>Abruzzo</td>\n",
              "      <td>30-39</td>\n",
              "      <td>146965</td>\n",
              "    </tr>\n",
              "    <tr>\n",
              "      <th>3</th>\n",
              "      <td>ABR</td>\n",
              "      <td>Abruzzo</td>\n",
              "      <td>40-49</td>\n",
              "      <td>187162</td>\n",
              "    </tr>\n",
              "    <tr>\n",
              "      <th>4</th>\n",
              "      <td>ABR</td>\n",
              "      <td>Abruzzo</td>\n",
              "      <td>50-59</td>\n",
              "      <td>208686</td>\n",
              "    </tr>\n",
              "    <tr>\n",
              "      <th>...</th>\n",
              "      <td>...</td>\n",
              "      <td>...</td>\n",
              "      <td>...</td>\n",
              "      <td>...</td>\n",
              "    </tr>\n",
              "    <tr>\n",
              "      <th>163</th>\n",
              "      <td>VEN</td>\n",
              "      <td>Veneto</td>\n",
              "      <td>40-49</td>\n",
              "      <td>715790</td>\n",
              "    </tr>\n",
              "    <tr>\n",
              "      <th>164</th>\n",
              "      <td>VEN</td>\n",
              "      <td>Veneto</td>\n",
              "      <td>50-59</td>\n",
              "      <td>806474</td>\n",
              "    </tr>\n",
              "    <tr>\n",
              "      <th>165</th>\n",
              "      <td>VEN</td>\n",
              "      <td>Veneto</td>\n",
              "      <td>60-69</td>\n",
              "      <td>610635</td>\n",
              "    </tr>\n",
              "    <tr>\n",
              "      <th>166</th>\n",
              "      <td>VEN</td>\n",
              "      <td>Veneto</td>\n",
              "      <td>70-79</td>\n",
              "      <td>494721</td>\n",
              "    </tr>\n",
              "    <tr>\n",
              "      <th>167</th>\n",
              "      <td>VEN</td>\n",
              "      <td>Veneto</td>\n",
              "      <td>80+</td>\n",
              "      <td>370529</td>\n",
              "    </tr>\n",
              "  </tbody>\n",
              "</table>\n",
              "<p>168 rows × 4 columns</p>\n",
              "</div>"
            ],
            "text/plain": [
              "    area nome_area fascia_anagrafica  totale_popolazione\n",
              "0    ABR   Abruzzo             12-19               94727\n",
              "1    ABR   Abruzzo             20-29              125230\n",
              "2    ABR   Abruzzo             30-39              146965\n",
              "3    ABR   Abruzzo             40-49              187162\n",
              "4    ABR   Abruzzo             50-59              208686\n",
              "..   ...       ...               ...                 ...\n",
              "163  VEN    Veneto             40-49              715790\n",
              "164  VEN    Veneto             50-59              806474\n",
              "165  VEN    Veneto             60-69              610635\n",
              "166  VEN    Veneto             70-79              494721\n",
              "167  VEN    Veneto               80+              370529\n",
              "\n",
              "[168 rows x 4 columns]"
            ]
          },
          "metadata": {},
          "execution_count": 2
        }
      ]
    },
    {
      "cell_type": "markdown",
      "metadata": {
        "id": "YFoHGUBpsNzl"
      },
      "source": [
        "1 Visualizzare la popolazione complessiva di tutte le regioni\n"
      ]
    },
    {
      "cell_type": "code",
      "metadata": {
        "colab": {
          "base_uri": "https://localhost:8080/"
        },
        "id": "6y3G4DexsSHS",
        "outputId": "c2c43d7c-f6ef-4420-d560-c982b4362170"
      },
      "source": [
        "df['totale_popolazione'].sum() "
      ],
      "execution_count": null,
      "outputs": [
        {
          "output_type": "execute_result",
          "data": {
            "text/plain": [
              "54009944"
            ]
          },
          "metadata": {},
          "execution_count": 3
        }
      ]
    },
    {
      "cell_type": "markdown",
      "metadata": {
        "id": "JIeQt4IQsksp"
      },
      "source": [
        "2 Visualizzare la popolazione di una regione inserita dall’utente. Controllare il dato inserito: se la regione non esiste dare un opportuno messaggio, altrimenti dare il messaggio “La regione <nome> ha <totale> abitanti”"
      ]
    },
    {
      "cell_type": "code",
      "metadata": {
        "colab": {
          "base_uri": "https://localhost:8080/"
        },
        "id": "oaNib-AKsnRq",
        "outputId": "8a8549f2-54d1-479d-ba08-be39713a72a5"
      },
      "source": [
        "regione = input('inserire regione: ')\n",
        "popolazione =df[df['nome_area']== regione].totale_popolazione.sum()\n",
        "\n",
        "if popolazione > 0:\n",
        "  print('La regione',regione,'ha',popolazione,'abitanti')\n",
        "else:\n",
        "  print('errore')"
      ],
      "execution_count": null,
      "outputs": [
        {
          "output_type": "stream",
          "name": "stdout",
          "text": [
            "inserire regione: Lombardia\n",
            "La regione Lombardia ha 9246804 abitanti\n"
          ]
        }
      ]
    },
    {
      "cell_type": "markdown",
      "metadata": {
        "id": "VXeSjzSpujxr"
      },
      "source": [
        "3 Visualizzare la popolazione di ogni regione. Visualizzare il nome della regione e il numero di abitanti. Ordinare in ordine decrescente sul numero di abitanti (dalla regione che ha più abitanti a quella che ne ha di meno)"
      ]
    },
    {
      "cell_type": "code",
      "metadata": {
        "colab": {
          "base_uri": "https://localhost:8080/",
          "height": 739
        },
        "id": "osQPOsNpumcb",
        "outputId": "5e7c1234-3d7f-418f-cbba-862d02d97630"
      },
      "source": [
        "df1 = df.groupby('nome_area')[['totale_popolazione']].sum().sort_values(by = 'totale_popolazione',ascending= False)\n",
        "df1"
      ],
      "execution_count": null,
      "outputs": [
        {
          "output_type": "execute_result",
          "data": {
            "text/html": [
              "<div>\n",
              "<style scoped>\n",
              "    .dataframe tbody tr th:only-of-type {\n",
              "        vertical-align: middle;\n",
              "    }\n",
              "\n",
              "    .dataframe tbody tr th {\n",
              "        vertical-align: top;\n",
              "    }\n",
              "\n",
              "    .dataframe thead th {\n",
              "        text-align: right;\n",
              "    }\n",
              "</style>\n",
              "<table border=\"1\" class=\"dataframe\">\n",
              "  <thead>\n",
              "    <tr style=\"text-align: right;\">\n",
              "      <th></th>\n",
              "      <th>totale_popolazione</th>\n",
              "    </tr>\n",
              "    <tr>\n",
              "      <th>nome_area</th>\n",
              "      <th></th>\n",
              "    </tr>\n",
              "  </thead>\n",
              "  <tbody>\n",
              "    <tr>\n",
              "      <th>Lombardia</th>\n",
              "      <td>9246804</td>\n",
              "    </tr>\n",
              "    <tr>\n",
              "      <th>Lazio</th>\n",
              "      <td>5147533</td>\n",
              "    </tr>\n",
              "    <tr>\n",
              "      <th>Campania</th>\n",
              "      <td>5104347</td>\n",
              "    </tr>\n",
              "    <tr>\n",
              "      <th>Sicilia</th>\n",
              "      <td>4435335</td>\n",
              "    </tr>\n",
              "    <tr>\n",
              "      <th>Veneto</th>\n",
              "      <td>4383999</td>\n",
              "    </tr>\n",
              "    <tr>\n",
              "      <th>Emilia-Romagna</th>\n",
              "      <td>3998406</td>\n",
              "    </tr>\n",
              "    <tr>\n",
              "      <th>Piemonte</th>\n",
              "      <td>3927641</td>\n",
              "    </tr>\n",
              "    <tr>\n",
              "      <th>Puglia</th>\n",
              "      <td>3572053</td>\n",
              "    </tr>\n",
              "    <tr>\n",
              "      <th>Toscana</th>\n",
              "      <td>3360763</td>\n",
              "    </tr>\n",
              "    <tr>\n",
              "      <th>Calabria</th>\n",
              "      <td>1689716</td>\n",
              "    </tr>\n",
              "    <tr>\n",
              "      <th>Sardegna</th>\n",
              "      <td>1484800</td>\n",
              "    </tr>\n",
              "    <tr>\n",
              "      <th>Liguria</th>\n",
              "      <td>1399466</td>\n",
              "    </tr>\n",
              "    <tr>\n",
              "      <th>Marche</th>\n",
              "      <td>1366477</td>\n",
              "    </tr>\n",
              "    <tr>\n",
              "      <th>Abruzzo</th>\n",
              "      <td>1188922</td>\n",
              "    </tr>\n",
              "    <tr>\n",
              "      <th>Friuli-Venezia Giulia</th>\n",
              "      <td>1088152</td>\n",
              "    </tr>\n",
              "    <tr>\n",
              "      <th>Umbria</th>\n",
              "      <td>790414</td>\n",
              "    </tr>\n",
              "    <tr>\n",
              "      <th>Basilicata</th>\n",
              "      <td>494881</td>\n",
              "    </tr>\n",
              "    <tr>\n",
              "      <th>P.A. Trento</th>\n",
              "      <td>481355</td>\n",
              "    </tr>\n",
              "    <tr>\n",
              "      <th>P.A. Bolzano</th>\n",
              "      <td>465181</td>\n",
              "    </tr>\n",
              "    <tr>\n",
              "      <th>Molise</th>\n",
              "      <td>273317</td>\n",
              "    </tr>\n",
              "    <tr>\n",
              "      <th>Valle d'Aosta</th>\n",
              "      <td>110382</td>\n",
              "    </tr>\n",
              "  </tbody>\n",
              "</table>\n",
              "</div>"
            ],
            "text/plain": [
              "                       totale_popolazione\n",
              "nome_area                                \n",
              "Lombardia                         9246804\n",
              "Lazio                             5147533\n",
              "Campania                          5104347\n",
              "Sicilia                           4435335\n",
              "Veneto                            4383999\n",
              "Emilia-Romagna                    3998406\n",
              "Piemonte                          3927641\n",
              "Puglia                            3572053\n",
              "Toscana                           3360763\n",
              "Calabria                          1689716\n",
              "Sardegna                          1484800\n",
              "Liguria                           1399466\n",
              "Marche                            1366477\n",
              "Abruzzo                           1188922\n",
              "Friuli-Venezia Giulia             1088152\n",
              "Umbria                             790414\n",
              "Basilicata                         494881\n",
              "P.A. Trento                        481355\n",
              "P.A. Bolzano                       465181\n",
              "Molise                             273317\n",
              "Valle d'Aosta                      110382"
            ]
          },
          "metadata": {},
          "execution_count": 5
        }
      ]
    },
    {
      "cell_type": "markdown",
      "metadata": {
        "id": "PUmK3U9xvr-0"
      },
      "source": [
        "4 Visualizzare il grafico a barre orizzontali relativo all’esercizio 3. Inserire il titolo, i nomi degli assi e la legenda. Fare in modo che i colori delle barre siano gradazioni dello stesso colore."
      ]
    },
    {
      "cell_type": "code",
      "metadata": {
        "colab": {
          "base_uri": "https://localhost:8080/",
          "height": 312
        },
        "id": "f_0_3VMrvufb",
        "outputId": "dc0dcdbc-b062-4204-a9f2-4ceb92e12c30"
      },
      "source": [
        "fig = plt.figure()\n",
        "ax = plt.axes()\n",
        "ax.barh(df1.index,df1['totale_popolazione'])\n",
        "ax.set_title('Grafico a barre orizzontali')\n",
        "ax.set_xlabel('Totale Popolazione')\n",
        "ax.set_ylabel('Regioni')\n",
        "ax.legend()\n",
        "plt.show()"
      ],
      "execution_count": null,
      "outputs": [
        {
          "output_type": "stream",
          "name": "stderr",
          "text": [
            "No handles with labels found to put in legend.\n"
          ]
        },
        {
          "output_type": "display_data",
          "data": {
            "image/png": "[encoded data removed]",
            "text/plain": [
              "<Figure size 432x288 with 1 Axes>"
            ]
          },
          "metadata": {
            "needs_background": "light"
          }
        }
      ]
    },
    {
      "cell_type": "markdown",
      "metadata": {
        "id": "-7cSaFSGxhZ9"
      },
      "source": [
        "5 Eliminare la colonna ‘area’"
      ]
    },
    {
      "cell_type": "code",
      "metadata": {
        "colab": {
          "base_uri": "https://localhost:8080/",
          "height": 424
        },
        "id": "8i2hxtn7xrEs",
        "outputId": "4c36f44a-31d2-4cfa-89d2-87e018b78925"
      },
      "source": [
        "df.drop(columns=['area'])"
      ],
      "execution_count": null,
      "outputs": [
        {
          "output_type": "execute_result",
          "data": {
            "text/html": [
              "<div>\n",
              "<style scoped>\n",
              "    .dataframe tbody tr th:only-of-type {\n",
              "        vertical-align: middle;\n",
              "    }\n",
              "\n",
              "    .dataframe tbody tr th {\n",
              "        vertical-align: top;\n",
              "    }\n",
              "\n",
              "    .dataframe thead th {\n",
              "        text-align: right;\n",
              "    }\n",
              "</style>\n",
              "<table border=\"1\" class=\"dataframe\">\n",
              "  <thead>\n",
              "    <tr style=\"text-align: right;\">\n",
              "      <th></th>\n",
              "      <th>nome_area</th>\n",
              "      <th>fascia_anagrafica</th>\n",
              "      <th>totale_popolazione</th>\n",
              "    </tr>\n",
              "  </thead>\n",
              "  <tbody>\n",
              "    <tr>\n",
              "      <th>0</th>\n",
              "      <td>Abruzzo</td>\n",
              "      <td>12-19</td>\n",
              "      <td>94727</td>\n",
              "    </tr>\n",
              "    <tr>\n",
              "      <th>1</th>\n",
              "      <td>Abruzzo</td>\n",
              "      <td>20-29</td>\n",
              "      <td>125230</td>\n",
              "    </tr>\n",
              "    <tr>\n",
              "      <th>2</th>\n",
              "      <td>Abruzzo</td>\n",
              "      <td>30-39</td>\n",
              "      <td>146965</td>\n",
              "    </tr>\n",
              "    <tr>\n",
              "      <th>3</th>\n",
              "      <td>Abruzzo</td>\n",
              "      <td>40-49</td>\n",
              "      <td>187162</td>\n",
              "    </tr>\n",
              "    <tr>\n",
              "      <th>4</th>\n",
              "      <td>Abruzzo</td>\n",
              "      <td>50-59</td>\n",
              "      <td>208686</td>\n",
              "    </tr>\n",
              "    <tr>\n",
              "      <th>...</th>\n",
              "      <td>...</td>\n",
              "      <td>...</td>\n",
              "      <td>...</td>\n",
              "    </tr>\n",
              "    <tr>\n",
              "      <th>163</th>\n",
              "      <td>Veneto</td>\n",
              "      <td>40-49</td>\n",
              "      <td>715790</td>\n",
              "    </tr>\n",
              "    <tr>\n",
              "      <th>164</th>\n",
              "      <td>Veneto</td>\n",
              "      <td>50-59</td>\n",
              "      <td>806474</td>\n",
              "    </tr>\n",
              "    <tr>\n",
              "      <th>165</th>\n",
              "      <td>Veneto</td>\n",
              "      <td>60-69</td>\n",
              "      <td>610635</td>\n",
              "    </tr>\n",
              "    <tr>\n",
              "      <th>166</th>\n",
              "      <td>Veneto</td>\n",
              "      <td>70-79</td>\n",
              "      <td>494721</td>\n",
              "    </tr>\n",
              "    <tr>\n",
              "      <th>167</th>\n",
              "      <td>Veneto</td>\n",
              "      <td>80+</td>\n",
              "      <td>370529</td>\n",
              "    </tr>\n",
              "  </tbody>\n",
              "</table>\n",
              "<p>168 rows × 3 columns</p>\n",
              "</div>"
            ],
            "text/plain": [
              "    nome_area fascia_anagrafica  totale_popolazione\n",
              "0     Abruzzo             12-19               94727\n",
              "1     Abruzzo             20-29              125230\n",
              "2     Abruzzo             30-39              146965\n",
              "3     Abruzzo             40-49              187162\n",
              "4     Abruzzo             50-59              208686\n",
              "..        ...               ...                 ...\n",
              "163    Veneto             40-49              715790\n",
              "164    Veneto             50-59              806474\n",
              "165    Veneto             60-69              610635\n",
              "166    Veneto             70-79              494721\n",
              "167    Veneto               80+              370529\n",
              "\n",
              "[168 rows x 3 columns]"
            ]
          },
          "metadata": {},
          "execution_count": 7
        }
      ]
    },
    {
      "cell_type": "markdown",
      "metadata": {
        "id": "iXatFxHszVBt"
      },
      "source": [
        "6 Visualizzare le fasce anagrafiche che hanno un numero di persone compreso tra 5 e 7 milioni\n"
      ]
    },
    {
      "cell_type": "code",
      "metadata": {
        "colab": {
          "base_uri": "https://localhost:8080/",
          "height": 143
        },
        "id": "2_C13ptAzYm4",
        "outputId": "d3f301b1-57cf-4197-e854-5cc4269059e5"
      },
      "source": [
        "df2 = df.groupby('fascia_anagrafica')[['totale_popolazione']].sum().reset_index()\n",
        "df3 = df2.loc[(df2['totale_popolazione']>=5000000)&(df2['totale_popolazione']<=7000000),['fascia_anagrafica','totale_popolazione']]\n",
        "df3"
      ],
      "execution_count": null,
      "outputs": [
        {
          "output_type": "execute_result",
          "data": {
            "text/html": [
              "<div>\n",
              "<style scoped>\n",
              "    .dataframe tbody tr th:only-of-type {\n",
              "        vertical-align: middle;\n",
              "    }\n",
              "\n",
              "    .dataframe tbody tr th {\n",
              "        vertical-align: top;\n",
              "    }\n",
              "\n",
              "    .dataframe thead th {\n",
              "        text-align: right;\n",
              "    }\n",
              "</style>\n",
              "<table border=\"1\" class=\"dataframe\">\n",
              "  <thead>\n",
              "    <tr style=\"text-align: right;\">\n",
              "      <th></th>\n",
              "      <th>fascia_anagrafica</th>\n",
              "      <th>totale_popolazione</th>\n",
              "    </tr>\n",
              "  </thead>\n",
              "  <tbody>\n",
              "    <tr>\n",
              "      <th>1</th>\n",
              "      <td>20-29</td>\n",
              "      <td>6013709</td>\n",
              "    </tr>\n",
              "    <tr>\n",
              "      <th>2</th>\n",
              "      <td>30-39</td>\n",
              "      <td>6794332</td>\n",
              "    </tr>\n",
              "    <tr>\n",
              "      <th>6</th>\n",
              "      <td>70-79</td>\n",
              "      <td>6019293</td>\n",
              "    </tr>\n",
              "  </tbody>\n",
              "</table>\n",
              "</div>"
            ],
            "text/plain": [
              "  fascia_anagrafica  totale_popolazione\n",
              "1             20-29             6013709\n",
              "2             30-39             6794332\n",
              "6             70-79             6019293"
            ]
          },
          "metadata": {},
          "execution_count": 8
        }
      ]
    },
    {
      "cell_type": "markdown",
      "metadata": {
        "id": "LNn02QV-2Cqv"
      },
      "source": [
        "7 Visualizzare il grafico a torta dei dati dell’esercizio 6. Visualizzare negli spicchi sia il numero assoluto degli abitanti (ad esempio 4345767) sia la percentuale"
      ]
    },
    {
      "cell_type": "code",
      "metadata": {
        "colab": {
          "base_uri": "https://localhost:8080/",
          "height": 248
        },
        "id": "T1667VNn2FM8",
        "outputId": "1544c66e-3cc0-457f-f802-7a59ce7cfd63"
      },
      "source": [
        "\n",
        "fig = plt.figure()\n",
        "ax = plt.axes()\n",
        "ax.pie(df3['totale_popolazione'],labels= df3['fascia_anagrafica'],autopct='%1.1f%%')\n",
        "\n",
        "plt.show()"
      ],
      "execution_count": null,
      "outputs": [
        {
          "output_type": "display_data",
          "data": {
            "image/png": "[encoded data removed]",
            "text/plain": [
              "<Figure size 432x288 with 1 Axes>"
            ]
          },
          "metadata": {}
        }
      ]
    },
    {
      "cell_type": "markdown",
      "metadata": {
        "id": "PGX_muFs3eyU"
      },
      "source": [
        "8 Visualizzare un nuovo grafico con i grafici precedenti. Il nuovo grafico deve avere due colonne e tre righe e deve contenere nella prima colonna tre volte il grafico a barre e nelle seconda colonna tre volte il grafico a torta"
      ]
    },
    {
      "cell_type": "code",
      "metadata": {
        "colab": {
          "base_uri": "https://localhost:8080/",
          "height": 298
        },
        "id": "SXi7w9JX3hul",
        "outputId": "5ca6f7b6-1cd3-4bf1-9166-8568da135344"
      },
      "source": [
        "fig,ax = plt.subplots(3,2)\n",
        "\n",
        "ax[0,0].barh(df1.index,df1['totale_popolazione'])\n",
        "ax[1,0].barh(df1.index,df1['totale_popolazione'])\n",
        "ax[2,0].barh(df1.index,df1['totale_popolazione'])\n",
        "\n",
        "ax[0,1].pie(df3['totale_popolazione'],labels= df3['fascia_anagrafica'],autopct='%1.1f%%')\n",
        "ax[1,1].pie(df3['totale_popolazione'],labels= df3['fascia_anagrafica'],autopct='%1.1f%%')\n",
        "ax[2,1].pie(df3['totale_popolazione'],labels= df3['fascia_anagrafica'],autopct='%1.1f%%')\n",
        "\n",
        "fig.tight_layout()"
      ],
      "execution_count": null,
      "outputs": [
        {
          "output_type": "display_data",
          "data": {
            "image/png": "[encoded data removed]",
            "text/plain": [
              "<Figure size 432x288 with 6 Axes>"
            ]
          },
          "metadata": {
            "needs_background": "light"
          }
        }
      ]
    },
    {
      "cell_type": "markdown",
      "metadata": {
        "id": "QzmvojjRPttr"
      },
      "source": [
        "9 Salvare il grafico in un file .png\n"
      ]
    },
    {
      "cell_type": "code",
      "metadata": {
        "id": "iOA78EC0PwNV"
      },
      "source": [
        "fig.savefig('file,png')"
      ],
      "execution_count": null,
      "outputs": []
    }
  ]
}