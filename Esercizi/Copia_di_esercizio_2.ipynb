{
  "nbformat": 4,
  "nbformat_minor": 0,
  "metadata": {
    "colab": {
      "name": "Copia di esercizio 2",
      "provenance": [],
      "collapsed_sections": []
    },
    "kernelspec": {
      "name": "python3",
      "display_name": "Python 3"
    },
    "language_info": {
      "name": "python"
    }
  },
  "cells": [
    {
      "cell_type": "markdown",
      "metadata": {
        "id": "RB75-RQCDg54"
      },
      "source": [
        "1 Scrivere un programma che crei una lista contenente i nomi dei capoluoghi delle regioni italiane e che visualizzi la lista. Chiamare la lista capoluoghiRegione"
      ]
    },
    {
      "cell_type": "code",
      "metadata": {
        "id": "M3gX8Ld0A22Q"
      },
      "source": [
        "capoluoghiRegione=[\"Roma\",\"Milano\",\"Napoli\",\"Torino\",\"Palermo\",\"Genova\",\"Bologna\",\"Firenze\",\"Bari\",\"Venezia\",\"Trieste\",\"Perugia\",\"Cagliari\",\"Trento\",\"Ancona\",\"Catanzaro\",\"L'Aquila\",\"Potenza\",\"Campobasso\",\"Aosta\"]\n",
        "print(capoluoghiRegione)"
      ],
      "execution_count": null,
      "outputs": []
    },
    {
      "cell_type": "markdown",
      "metadata": {
        "id": "Tk6h7m_RFxYv"
      },
      "source": [
        "2 Scrivere un programma che visualizzi i primi 6 capoluoghi di regione presenti in capoluoghiRegione"
      ]
    },
    {
      "cell_type": "code",
      "metadata": {
        "id": "uVVX7v8AF1Zs"
      },
      "source": [
        "print(capoluoghiRegione[0:6])"
      ],
      "execution_count": null,
      "outputs": []
    },
    {
      "cell_type": "markdown",
      "metadata": {
        "id": "hDqOTwhRF_JW"
      },
      "source": [
        "3 Scrivere un programma che visualizzi gli ultimi 6 capoluoghi di regione presenti in capoluoghiRegione\n"
      ]
    },
    {
      "cell_type": "code",
      "metadata": {
        "id": "X4OiRIhgGBlt"
      },
      "source": [
        "print(capoluoghiRegione[-6:])"
      ],
      "execution_count": null,
      "outputs": []
    },
    {
      "cell_type": "markdown",
      "metadata": {
        "id": "thx6Pab2GbUs"
      },
      "source": [
        "4 Scrivere un programma che visualizzi i 6 capoluoghi di regione presenti nella parte centrale di capoluoghiRegione\n"
      ]
    },
    {
      "cell_type": "code",
      "metadata": {
        "id": "a5MAtAxmGhL1"
      },
      "source": [
        "print(capoluoghiRegione[7:-7])"
      ],
      "execution_count": null,
      "outputs": []
    },
    {
      "cell_type": "markdown",
      "metadata": {
        "id": "QWhzEbvWHEW2"
      },
      "source": [
        "5 Scrivere un programma che visualizzi i capoluoghi di regione presenti in capoluoghiRegione nelle posizioni pari.\n"
      ]
    },
    {
      "cell_type": "code",
      "metadata": {
        "id": "VI5dgHTJHJGm"
      },
      "source": [
        "print(capoluoghiRegione[::2])"
      ],
      "execution_count": null,
      "outputs": []
    },
    {
      "cell_type": "markdown",
      "metadata": {
        "id": "2M16vBXYHh2P"
      },
      "source": [
        "6 Scrivere un programma che visualizzi i capoluoghi di regione presenti in capoluoghiRegione nelle posizioni dispari.\n"
      ]
    },
    {
      "cell_type": "code",
      "metadata": {
        "id": "VKkhITsFHnXV"
      },
      "source": [
        "print(capoluoghiRegione[1::2])\n"
      ],
      "execution_count": null,
      "outputs": []
    },
    {
      "cell_type": "markdown",
      "metadata": {
        "id": "7LCuxMFSIDsF"
      },
      "source": [
        "7 Scrivere un programma che visualizzi il primo capoluogo di regione in ordine alfabetico\n"
      ]
    },
    {
      "cell_type": "code",
      "metadata": {
        "id": "wZh7coJlIHJk"
      },
      "source": [
        "capoluoghiRegione=[\"Roma\",\"Milano\",\"Napoli\",\"Torino\",\"Palermo\",\"Genova\",\"Bologna\",\"Firenze\",\"Bari\",\"Venezia\",\"Trieste\",\"Perugia\",\"Cagliari\",\"Trento\",\"Ancona\",\"Catanzaro\",\"L'Aquila\",\"Potenza\",\"Campobasso\",\"Aosta\"]\n",
        "print(min(capoluoghiRegione))"
      ],
      "execution_count": null,
      "outputs": []
    },
    {
      "cell_type": "markdown",
      "metadata": {
        "id": "2F7zwkYMIXXu"
      },
      "source": [
        "8 Scrivere un programma che permetta ad un utente di inserire il nome di una città è risponda True se quella città è un capoluogo di regione, False altrimenti.\n"
      ]
    },
    {
      "cell_type": "code",
      "metadata": {
        "id": "tz9_NF7KIZx9"
      },
      "source": [
        "#capoluoghiRegione=[\"Roma\",\"Milano\",\"Napoli\",\"Torino\",\"Palermo\",\"Genova\",\"Bologna\",\"Firenze\",\"Bari\",\"Venezia\",\"Trieste\",\"Perugia\",\"Cagliari\",\"Trento\",\"Ancona\",\"Catanzaro\",\"L'Aquila\",\"Potenza\",\"Campobasso\",\"Aosta\"]\n",
        "citta=(input(\"citta \"))in capoluoghiRegione\n",
        "citta in capoluoghiRegione\n",
        "print(citta)"
      ],
      "execution_count": null,
      "outputs": []
    },
    {
      "cell_type": "markdown",
      "metadata": {
        "id": "ga0t9WBiMQy2"
      },
      "source": [
        "9 Scrivere un programma che visualizzi i capoluoghi in ordine alfabetico\n"
      ]
    },
    {
      "cell_type": "code",
      "metadata": {
        "id": "gwcRs7PPMTx9"
      },
      "source": [
        "capoluoghiRegione.sort()\n",
        "print(capoluoghiRegione)"
      ],
      "execution_count": null,
      "outputs": []
    },
    {
      "cell_type": "markdown",
      "metadata": {
        "id": "rZvL6lVVMbEG"
      },
      "source": [
        "10 Scrivere un programma che visualizzi i capoluoghi in ordine alfabetico inverso (dalla Z alla A)\n"
      ]
    },
    {
      "cell_type": "code",
      "metadata": {
        "id": "qDENluv2Mdse"
      },
      "source": [
        "print(sorted(capoluoghiRegione,reverse=True)) \n"
      ],
      "execution_count": null,
      "outputs": []
    },
    {
      "cell_type": "markdown",
      "metadata": {
        "id": "mYYPux2lMmYN"
      },
      "source": [
        "11 Scrivere un programma che visualizzi i capoluoghi in ordine sulla base della lunghezza del nome (da quello più corto a quello più lungo)\n"
      ]
    },
    {
      "cell_type": "code",
      "metadata": {
        "id": "vu6dIrSrMpDG"
      },
      "source": [
        "print(sorted(capoluoghiRegione,key=len))"
      ],
      "execution_count": null,
      "outputs": []
    },
    {
      "cell_type": "markdown",
      "metadata": {
        "id": "gbNUW0YDM-ON"
      },
      "source": [
        "12 Scrivere un programma che copi la lista capoluoghiRegione nella lista capoluoghiRegione2 e che elimini dalla prima lista il primo e l’ultimo elemento. Al termine, visualizzare le due liste una sotto l’altra per verificare che effettivamente siano stati eliminati gli elementi della lista originale.\n"
      ]
    },
    {
      "cell_type": "code",
      "metadata": {
        "id": "51QbohFuNAeM"
      },
      "source": [
        "capoluoghiRegioni2 = capoluoghiRegioni[:]\n",
        "capoluoghiRegioni.pop(0)\n",
        "capoluoghiRegioni.pop()\n",
        "print('capoluoghiRegioni: ',capoluoghiRegioni)\n",
        "print('capoluoghiRegioni2: ',capoluoghiRegioni2)"
      ],
      "execution_count": null,
      "outputs": []
    },
    {
      "cell_type": "markdown",
      "metadata": {
        "id": "VgeoTpcqNA6u"
      },
      "source": [
        "13 Scrivere un programma che, con una sola istruzione, carichi una lista con i primi 100 numeri interi. Chiamare la lista numeriInteri. Al termine, visualizzare la lista.\n"
      ]
    },
    {
      "cell_type": "code",
      "metadata": {
        "id": "dsyUWfLJNFqM"
      },
      "source": [
        "numeriInteri = [i for i in range(0, 100)]\n",
        "print(numeriInteri)"
      ],
      "execution_count": null,
      "outputs": []
    },
    {
      "cell_type": "markdown",
      "metadata": {
        "id": "K_ZNtF60NGvM"
      },
      "source": [
        "14 Scrivere un programma che permetta all’utente di inserire in una lista 10 numeri interi, elimini i duplicati e visualizzi la lista senza duplicati. Chiamare la lista numeriInteri.\n"
      ]
    },
    {
      "cell_type": "code",
      "metadata": {
        "id": "gHt_Cs24NFrR"
      },
      "source": [
        "NumeriInteri = []\n",
        "for i in range(10):\n",
        " NumeriInteri.insert(i,input(\"Inserire numero intero \"))\n",
        "print(set(NumeriInteri))"
      ],
      "execution_count": null,
      "outputs": []
    }
  ]
}
