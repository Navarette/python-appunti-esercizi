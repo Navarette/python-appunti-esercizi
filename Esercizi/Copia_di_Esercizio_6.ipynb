{
  "nbformat": 4,
  "nbformat_minor": 0,
  "metadata": {
    "colab": {
      "name": "Copia di Esercizio 6.ipynb",
      "provenance": [],
      "collapsed_sections": []
    },
    "kernelspec": {
      "name": "python3",
      "display_name": "Python 3"
    },
    "language_info": {
      "name": "python"
    }
  },
  "cells": [
    {
      "cell_type": "markdown",
      "metadata": {
        "id": "pn5huFiF-TA_"
      },
      "source": [
        "1. scrivere una funzione chiamata sommaTutti che permetta di sommare un numero arbitrario di valori interi passati come parametri. Scrivere poi un programma che permetta all'utente di inserire un numero variabile di interi e visualizzi la somma.\n"
      ]
    },
    {
      "cell_type": "code",
      "metadata": {
        "id": "YYOIy4Tz-Qkr"
      },
      "source": [
        "def sommaTutti(x):\n",
        "  return sum(x)\n",
        "num= [int(i)for i in input().split()]\n",
        "sommaTutti(num)\n"
      ],
      "execution_count": null,
      "outputs": []
    },
    {
      "cell_type": "markdown",
      "metadata": {
        "id": "eHdoVYNh_uWL"
      },
      "source": [
        "2. scrivere una lambda function che calcoli la lunghezza della circonferenza di un cerchio dato il raggio. Utilizzarla poi in un programma che chieda all'utente il valore del raggio e visualizzi la lunghezza della circonferenza\n"
      ]
    },
    {
      "cell_type": "code",
      "metadata": {
        "id": "VQ7w0WWn_w-B"
      },
      "source": [
        "import math\n",
        "circle = lambda x : math.pi*(x*2)\n",
        "print(circle(int(input(\"raggio \"))))"
      ],
      "execution_count": null,
      "outputs": []
    },
    {
      "cell_type": "markdown",
      "metadata": {
        "id": "VN0aBIZ4C4S5"
      },
      "source": [
        "3. scrivere una funzione che calcoli il quadrato di un numero. Scrivere poi una funzione che calcoli la radice quadrata della somma di due numeri. Scrivere poi una lambda function che date le lunghezze di due cateti di un triangolo calcoli l'ipotenusa utilizzando le funzioni definite precedentemente. Utilizzare quest'ultima funzione in un programma che permetta all'utente di inserire le lunghezze dei cateti e di avere in risposta la lunghezza dell'ipotenusa di un triangolo rettangolo\n"
      ]
    },
    {
      "cell_type": "code",
      "metadata": {
        "id": "LxLAdSfzC8Nq"
      },
      "source": [
        "def quadrato(x):\n",
        "  return x**2\n",
        "  print(quadrato)\n",
        "def radice(x,y):\n",
        "  return pow(x+y,0.5)\n",
        "  print(radice)\n",
        "ipotenusa= lambda a,b: radice(quadrato(a),quadrato(b))\n",
        "\n",
        "print(ipotenusa(float(input()),float(input())))"
      ],
      "execution_count": null,
      "outputs": []
    },
    {
      "cell_type": "markdown",
      "metadata": {
        "id": "gAuNcTT3Ft_f"
      },
      "source": [
        "4. Scrivere le funzioni quadrato, cubo e radiceQuadrata che calcolano il quadrato, il cubo e la radice quadrata di un numero intero. Scrivere poi un programma che, utilizzando un ciclo for, richiami le tre funzioni su un valore intero inserito dall'utente e visualizzi i tre risultati.\n",
        "\n",
        "\n",
        "Studiare poi le funzioni map() e filter() al link https://www.meccanismocomplesso.org/lessons-lezioni-di-python-map-e-filter/ (o su altri siti a scelta) e svolgere i seguenti esercizi. da inserire sempre nello stesso notebook:"
      ]
    },
    {
      "cell_type": "code",
      "metadata": {
        "id": "j-1XTjDQFwMd"
      },
      "source": [
        "def quadrato(q):\n",
        "  return q**2\n",
        "def cubo(c):\n",
        "  return c**3\n",
        "def radice(r):\n",
        "  return r**(1/2)\n",
        "num = int(input(\"inserisci numero: \"))\n",
        "for i in range(1):\n",
        " print(quadrato(num))\n",
        " print(cubo(num))\n",
        " print(radice(num))\n"
      ],
      "execution_count": null,
      "outputs": []
    },
    {
      "cell_type": "markdown",
      "metadata": {
        "id": "iIjfA6pFvsJl"
      },
      "source": [
        "5. Utilizzando una lambda function, scrivere un programma che data una lista di numeri interi inserita dall'utente carichi in altre due liste i quadrati e i cubi dei numeri presenti nella lista inserita. Al termine, visualizzare le due liste.\n"
      ]
    },
    {
      "cell_type": "code",
      "metadata": {
        "id": "lSCYiFKWvvJA"
      },
      "source": [
        "lst = [int(s) for s in input().split()]\n",
        "cubo= list(map(lambda x:x**2,lst))\n",
        "print(cubo)\n",
        "list(map(lambda y:y**3,lst))"
      ],
      "execution_count": null,
      "outputs": []
    },
    {
      "cell_type": "markdown",
      "metadata": {
        "id": "ptXa9SsL75h1"
      },
      "source": [
        "6. Utilizzando una lambda function, scrivere un programma che data una lista di numeri interi inserita dall'utente carichi in altre due liste i numeri pari e i numeri dispari presenti nella lista inserita. Al termine, visualizzare le due liste.\n"
      ]
    },
    {
      "cell_type": "code",
      "metadata": {
        "id": "hRYHP3at77rP"
      },
      "source": [
        "lst1= [int(s) for s in input().split()]\n",
        "print(list(filter(lambda x:x%2==0,lst1)))\n",
        "print(list(filter(lambda x:x%2!=0,lst1)))\n"
      ],
      "execution_count": null,
      "outputs": []
    },
    {
      "cell_type": "markdown",
      "metadata": {
        "id": "rTK2FgVE8nU1"
      },
      "source": [
        "7. Cercare su internet che cosa si intende per fattoriale di un numero. \n",
        "\n",
        "Scrivere poi una funzione ricorsiva che calcoli il fattoriale di un numero. Utilizzare poi la funzione creata per scrivere un programma che permetta all'utente di inserire un numero intero e che visualizzi il fattoriale di quel numero."
      ]
    },
    {
      "cell_type": "code",
      "metadata": {
        "id": "6sewkrBY8tTa"
      },
      "source": [
        "fattoriale = lambda n: 1 if n == 0 else n * fattoriale(n-1)\n",
        "print(fattoriale(int(input())))"
      ],
      "execution_count": null,
      "outputs": []
    },
    {
      "cell_type": "markdown",
      "metadata": {
        "id": "zaqo0bK79Fp_"
      },
      "source": [
        "8. Svolgere l'esercizio 7, senza ricorsione\n"
      ]
    },
    {
      "cell_type": "code",
      "metadata": {
        "id": "u_lXwLmO9Hdl"
      },
      "source": [
        ""
      ],
      "execution_count": null,
      "outputs": []
    },
    {
      "cell_type": "markdown",
      "metadata": {
        "id": "GFwBiqAh90vw"
      },
      "source": [
        "9. Cercare su internet che cosa sono i numeri di Fibonacci. Scrivere poi una funzione ricorsiva che calcoli l'n-esimo numero della sequenza di Fibonacci. Utilizzare poi la funzione creata per scrivere un programma che permetta all'utente di inserire un numero intero e che visualizzi il numero della sequenza di Fibonacci corrispondente.\n"
      ]
    },
    {
      "cell_type": "code",
      "metadata": {
        "id": "HUuG1YXgAk1o"
      },
      "source": [
        "fibonacci= int(input())\n",
        "def fibo(n):\n",
        "    if(n <= 2):\n",
        "        return 1\n",
        "    else:\n",
        "        a=1\n",
        "        b=1\n",
        "        for i in range(0,n):\n",
        "            c=a+b\n",
        "            a=b\n",
        "            b=c\n",
        "        return c\n",
        "\n",
        "fibo(fibonacci)\n"
      ],
      "execution_count": null,
      "outputs": []
    }
  ]
}
