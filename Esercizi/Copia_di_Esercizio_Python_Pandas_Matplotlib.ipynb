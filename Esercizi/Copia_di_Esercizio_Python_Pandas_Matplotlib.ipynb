{
  "nbformat": 4,
  "nbformat_minor": 0,
  "metadata": {
    "colab": {
      "name": "Copia di Esercizio_Python_Pandas_Matplotlib.ipynb",
      "provenance": [],
      "collapsed_sections": []
    },
    "kernelspec": {
      "name": "python3",
      "display_name": "Python 3"
    },
    "language_info": {
      "name": "python"
    }
  },
  "cells": [
    {
      "cell_type": "code",
      "metadata": {
        "id": "CbClo-2vhUXw"
      },
      "source": [
        "import pandas as pd\n",
        "import matplotlib.pyplot as plt\n",
        "import squarify as sqrfy"
      ],
      "execution_count": null,
      "outputs": []
    },
    {
      "cell_type": "code",
      "metadata": {
        "colab": {
          "base_uri": "https://localhost:8080/",
          "height": 424
        },
        "id": "2qWNXGpah2pE",
        "outputId": "447cc29d-a0c8-4f59-e47f-7d5257dab466"
      },
      "source": [
        "df = pd.read_csv('https://raw.githubusercontent.com/italia/covid19-opendata-vaccini/master/dati/consegne-vaccini-latest.csv')\n",
        "df"
      ],
      "execution_count": null,
      "outputs": [
        {
          "output_type": "execute_result",
          "data": {
            "text/html": [
              "<div>\n",
              "<style scoped>\n",
              "    .dataframe tbody tr th:only-of-type {\n",
              "        vertical-align: middle;\n",
              "    }\n",
              "\n",
              "    .dataframe tbody tr th {\n",
              "        vertical-align: top;\n",
              "    }\n",
              "\n",
              "    .dataframe thead th {\n",
              "        text-align: right;\n",
              "    }\n",
              "</style>\n",
              "<table border=\"1\" class=\"dataframe\">\n",
              "  <thead>\n",
              "    <tr style=\"text-align: right;\">\n",
              "      <th></th>\n",
              "      <th>area</th>\n",
              "      <th>fornitore</th>\n",
              "      <th>numero_dosi</th>\n",
              "      <th>data_consegna</th>\n",
              "      <th>codice_NUTS1</th>\n",
              "      <th>codice_NUTS2</th>\n",
              "      <th>codice_regione_ISTAT</th>\n",
              "      <th>nome_area</th>\n",
              "    </tr>\n",
              "  </thead>\n",
              "  <tbody>\n",
              "    <tr>\n",
              "      <th>0</th>\n",
              "      <td>ABR</td>\n",
              "      <td>Pfizer/BioNTech</td>\n",
              "      <td>135</td>\n",
              "      <td>2020-12-27</td>\n",
              "      <td>ITF</td>\n",
              "      <td>ITF1</td>\n",
              "      <td>13</td>\n",
              "      <td>Abruzzo</td>\n",
              "    </tr>\n",
              "    <tr>\n",
              "      <th>1</th>\n",
              "      <td>ABR</td>\n",
              "      <td>Pfizer/BioNTech</td>\n",
              "      <td>7800</td>\n",
              "      <td>2020-12-30</td>\n",
              "      <td>ITF</td>\n",
              "      <td>ITF1</td>\n",
              "      <td>13</td>\n",
              "      <td>Abruzzo</td>\n",
              "    </tr>\n",
              "    <tr>\n",
              "      <th>2</th>\n",
              "      <td>ABR</td>\n",
              "      <td>Pfizer/BioNTech</td>\n",
              "      <td>3900</td>\n",
              "      <td>2021-01-05</td>\n",
              "      <td>ITF</td>\n",
              "      <td>ITF1</td>\n",
              "      <td>13</td>\n",
              "      <td>Abruzzo</td>\n",
              "    </tr>\n",
              "    <tr>\n",
              "      <th>3</th>\n",
              "      <td>ABR</td>\n",
              "      <td>Pfizer/BioNTech</td>\n",
              "      <td>3900</td>\n",
              "      <td>2021-01-07</td>\n",
              "      <td>ITF</td>\n",
              "      <td>ITF1</td>\n",
              "      <td>13</td>\n",
              "      <td>Abruzzo</td>\n",
              "    </tr>\n",
              "    <tr>\n",
              "      <th>4</th>\n",
              "      <td>ABR</td>\n",
              "      <td>Pfizer/BioNTech</td>\n",
              "      <td>3900</td>\n",
              "      <td>2021-01-11</td>\n",
              "      <td>ITF</td>\n",
              "      <td>ITF1</td>\n",
              "      <td>13</td>\n",
              "      <td>Abruzzo</td>\n",
              "    </tr>\n",
              "    <tr>\n",
              "      <th>...</th>\n",
              "      <td>...</td>\n",
              "      <td>...</td>\n",
              "      <td>...</td>\n",
              "      <td>...</td>\n",
              "      <td>...</td>\n",
              "      <td>...</td>\n",
              "      <td>...</td>\n",
              "      <td>...</td>\n",
              "    </tr>\n",
              "    <tr>\n",
              "      <th>5278</th>\n",
              "      <td>VEN</td>\n",
              "      <td>Moderna</td>\n",
              "      <td>-1200</td>\n",
              "      <td>2021-10-11</td>\n",
              "      <td>ITH</td>\n",
              "      <td>ITH3</td>\n",
              "      <td>5</td>\n",
              "      <td>Veneto</td>\n",
              "    </tr>\n",
              "    <tr>\n",
              "      <th>5279</th>\n",
              "      <td>VEN</td>\n",
              "      <td>Moderna</td>\n",
              "      <td>1</td>\n",
              "      <td>2021-10-13</td>\n",
              "      <td>ITH</td>\n",
              "      <td>ITH3</td>\n",
              "      <td>5</td>\n",
              "      <td>Veneto</td>\n",
              "    </tr>\n",
              "    <tr>\n",
              "      <th>5280</th>\n",
              "      <td>VEN</td>\n",
              "      <td>Moderna</td>\n",
              "      <td>8</td>\n",
              "      <td>2021-10-14</td>\n",
              "      <td>ITH</td>\n",
              "      <td>ITH3</td>\n",
              "      <td>5</td>\n",
              "      <td>Veneto</td>\n",
              "    </tr>\n",
              "    <tr>\n",
              "      <th>5281</th>\n",
              "      <td>VEN</td>\n",
              "      <td>Pfizer/BioNTech</td>\n",
              "      <td>4</td>\n",
              "      <td>2021-10-15</td>\n",
              "      <td>ITH</td>\n",
              "      <td>ITH3</td>\n",
              "      <td>5</td>\n",
              "      <td>Veneto</td>\n",
              "    </tr>\n",
              "    <tr>\n",
              "      <th>5282</th>\n",
              "      <td>VEN</td>\n",
              "      <td>Moderna</td>\n",
              "      <td>5</td>\n",
              "      <td>2021-11-11</td>\n",
              "      <td>ITH</td>\n",
              "      <td>ITH3</td>\n",
              "      <td>5</td>\n",
              "      <td>Veneto</td>\n",
              "    </tr>\n",
              "  </tbody>\n",
              "</table>\n",
              "<p>5283 rows × 8 columns</p>\n",
              "</div>"
            ],
            "text/plain": [
              "     area        fornitore  ...  codice_regione_ISTAT nome_area\n",
              "0     ABR  Pfizer/BioNTech  ...                    13   Abruzzo\n",
              "1     ABR  Pfizer/BioNTech  ...                    13   Abruzzo\n",
              "2     ABR  Pfizer/BioNTech  ...                    13   Abruzzo\n",
              "3     ABR  Pfizer/BioNTech  ...                    13   Abruzzo\n",
              "4     ABR  Pfizer/BioNTech  ...                    13   Abruzzo\n",
              "...   ...              ...  ...                   ...       ...\n",
              "5278  VEN          Moderna  ...                     5    Veneto\n",
              "5279  VEN          Moderna  ...                     5    Veneto\n",
              "5280  VEN          Moderna  ...                     5    Veneto\n",
              "5281  VEN  Pfizer/BioNTech  ...                     5    Veneto\n",
              "5282  VEN          Moderna  ...                     5    Veneto\n",
              "\n",
              "[5283 rows x 8 columns]"
            ]
          },
          "metadata": {},
          "execution_count": 3
        }
      ]
    },
    {
      "cell_type": "markdown",
      "metadata": {
        "id": "JlIShfbyiACz"
      },
      "source": [
        "1. visualizzare il numero totale di record presenti nel file\n"
      ]
    },
    {
      "cell_type": "code",
      "metadata": {
        "colab": {
          "base_uri": "https://localhost:8080/"
        },
        "id": "1bSjT7nch9as",
        "outputId": "3b5cba47-3bd7-4e8a-eb46-3feca0956c07"
      },
      "source": [
        "df.index"
      ],
      "execution_count": null,
      "outputs": [
        {
          "output_type": "execute_result",
          "data": {
            "text/plain": [
              "RangeIndex(start=0, stop=5283, step=1)"
            ]
          },
          "metadata": {},
          "execution_count": 3
        }
      ]
    },
    {
      "cell_type": "markdown",
      "metadata": {
        "id": "ZdDoVYCriD8s"
      },
      "source": [
        "2. visualizzare il numero di record presenti relativi ad una regione inserita dall'utente\n"
      ]
    },
    {
      "cell_type": "code",
      "metadata": {
        "colab": {
          "base_uri": "https://localhost:8080/"
        },
        "id": "C4tAFVj4iEXE",
        "outputId": "c9af6e9c-c93a-4c14-d6af-5efc298a78e8"
      },
      "source": [
        "df[df['nome_area']==input()].count()  "
      ],
      "execution_count": null,
      "outputs": [
        {
          "name": "stdout",
          "output_type": "stream",
          "text": [
            "Abruzzo\n"
          ]
        },
        {
          "output_type": "execute_result",
          "data": {
            "text/plain": [
              "area                    154\n",
              "fornitore               154\n",
              "numero_dosi             154\n",
              "data_consegna           154\n",
              "codice_NUTS1            154\n",
              "codice_NUTS2            154\n",
              "codice_regione_ISTAT    154\n",
              "nome_area               154\n",
              "dtype: int64"
            ]
          },
          "metadata": {},
          "execution_count": 12
        }
      ]
    },
    {
      "cell_type": "markdown",
      "metadata": {
        "id": "g5a89ytxjxFm"
      },
      "source": [
        "3. modificare l'esercizio precedente per rispondere con un messaggio appropriato se la regione non è presente\n"
      ]
    },
    {
      "cell_type": "code",
      "metadata": {
        "colab": {
          "base_uri": "https://localhost:8080/"
        },
        "id": "y4ZjYeXsjzzN",
        "outputId": "711a70a5-db7b-4d04-86bf-773ebe2e0d88"
      },
      "source": [
        "a = input()\n",
        "if a in list(df['nome_area']):\n",
        "  print(df[df['nome_area']==a])\n",
        "else:\n",
        "  print('errore')"
      ],
      "execution_count": null,
      "outputs": [
        {
          "output_type": "stream",
          "name": "stdout",
          "text": [
            "sisisi\n",
            "errore\n"
          ]
        }
      ]
    },
    {
      "cell_type": "markdown",
      "metadata": {
        "id": "BlNJzPaEuqtW"
      },
      "source": [
        "4. visualizzare il numero totale di vaccini consegnati in una regione inserita dall'utente\n"
      ]
    },
    {
      "cell_type": "code",
      "metadata": {
        "id": "ydKaZflotjOG"
      },
      "source": [
        "df[df['fornitore']==input()]['numero_dosi'].sum()"
      ],
      "execution_count": null,
      "outputs": []
    },
    {
      "cell_type": "markdown",
      "metadata": {
        "id": "fpfjq22suxyY"
      },
      "source": [
        "5. visualizzare il numero di vaccini per ogni fornitore\n"
      ]
    },
    {
      "cell_type": "code",
      "metadata": {
        "id": "hrGZ94Osuz73",
        "colab": {
          "base_uri": "https://localhost:8080/"
        },
        "outputId": "3fe868eb-bda4-4c26-d2f1-ddebd6064fb7"
      },
      "source": [
        "df.groupby('fornitore')['numero_dosi'].sum()"
      ],
      "execution_count": null,
      "outputs": [
        {
          "output_type": "execute_result",
          "data": {
            "text/plain": [
              "fornitore\n",
              "Janssen                     1846104\n",
              "Moderna                    15235940\n",
              "Pfizer/BioNTech            71327408\n",
              "Vaxzevria (AstraZeneca)    11544591\n",
              "Name: numero_dosi, dtype: int64"
            ]
          },
          "metadata": {},
          "execution_count": 8
        }
      ]
    },
    {
      "cell_type": "markdown",
      "metadata": {
        "id": "0A20bGqtpatk"
      },
      "source": [
        "6. visualizzare il numero di vaccini per ogni fornitore di una regione inserita dall'utente. Ordinare in ordine\n",
        "decrescente sul numero di vaccini\n"
      ]
    },
    {
      "cell_type": "code",
      "metadata": {
        "colab": {
          "base_uri": "https://localhost:8080/",
          "height": 192
        },
        "id": "Z2j2pEl9pfg0",
        "outputId": "ca5f6d0c-dbb6-47f1-e470-823d23d94331"
      },
      "source": [
        "df[df['nome_area']==input()].groupby('fornitore',as_index = False).sum().sort_values('numero_dosi',ascending=False)[['fornitore','numero_dosi']]"
      ],
      "execution_count": null,
      "outputs": [
        {
          "name": "stdout",
          "output_type": "stream",
          "text": [
            "Abruzzo\n"
          ]
        },
        {
          "output_type": "execute_result",
          "data": {
            "text/html": [
              "<div>\n",
              "<style scoped>\n",
              "    .dataframe tbody tr th:only-of-type {\n",
              "        vertical-align: middle;\n",
              "    }\n",
              "\n",
              "    .dataframe tbody tr th {\n",
              "        vertical-align: top;\n",
              "    }\n",
              "\n",
              "    .dataframe thead th {\n",
              "        text-align: right;\n",
              "    }\n",
              "</style>\n",
              "<table border=\"1\" class=\"dataframe\">\n",
              "  <thead>\n",
              "    <tr style=\"text-align: right;\">\n",
              "      <th></th>\n",
              "      <th>fornitore</th>\n",
              "      <th>numero_dosi</th>\n",
              "    </tr>\n",
              "  </thead>\n",
              "  <tbody>\n",
              "    <tr>\n",
              "      <th>2</th>\n",
              "      <td>Pfizer/BioNTech</td>\n",
              "      <td>1575702</td>\n",
              "    </tr>\n",
              "    <tr>\n",
              "      <th>1</th>\n",
              "      <td>Moderna</td>\n",
              "      <td>357200</td>\n",
              "    </tr>\n",
              "    <tr>\n",
              "      <th>3</th>\n",
              "      <td>Vaxzevria (AstraZeneca)</td>\n",
              "      <td>298450</td>\n",
              "    </tr>\n",
              "    <tr>\n",
              "      <th>0</th>\n",
              "      <td>Janssen</td>\n",
              "      <td>35900</td>\n",
              "    </tr>\n",
              "  </tbody>\n",
              "</table>\n",
              "</div>"
            ],
            "text/plain": [
              "                 fornitore  numero_dosi\n",
              "2          Pfizer/BioNTech      1575702\n",
              "1                  Moderna       357200\n",
              "3  Vaxzevria (AstraZeneca)       298450\n",
              "0                  Janssen        35900"
            ]
          },
          "metadata": {},
          "execution_count": 9
        }
      ]
    },
    {
      "cell_type": "markdown",
      "metadata": {
        "id": "byKWUW-HqBDk"
      },
      "source": [
        "7. visualizzare le informazioni dell'esercizio 6 con un grafico a barre\n"
      ]
    },
    {
      "cell_type": "code",
      "metadata": {
        "colab": {
          "base_uri": "https://localhost:8080/",
          "height": 293
        },
        "id": "OC3wmUO2qCht",
        "outputId": "a95e46ce-cee7-47c7-9e27-4331ee6232f9"
      },
      "source": [
        "data = df[df['nome_area']==input()].groupby('fornitore',as_index = False).sum().sort_values('numero_dosi',ascending=False)[['fornitore','numero_dosi']]\n",
        "fig = plt.figure()\n",
        "ax = plt.axes()\n",
        "ax.bar(data['fornitore'],data['numero_dosi'])\n",
        "plt.show()"
      ],
      "execution_count": null,
      "outputs": [
        {
          "name": "stdout",
          "output_type": "stream",
          "text": [
            "Abruzzo\n"
          ]
        },
        {
          "output_type": "display_data",
          "data": {
            "image/png": "[encoded data removed]",
            "text/plain": [
              "<Figure size 432x288 with 1 Axes>"
            ]
          },
          "metadata": {
            "needs_background": "light"
          }
        }
      ]
    },
    {
      "cell_type": "markdown",
      "metadata": {
        "id": "YgdqrOMgqYCU"
      },
      "source": [
        "8. visualizzare le informazioni dell'esercizio 6 con un grafico a torta\n"
      ]
    },
    {
      "cell_type": "code",
      "metadata": {
        "colab": {
          "base_uri": "https://localhost:8080/",
          "height": 265
        },
        "id": "vYU-rai_qZ98",
        "outputId": "260050e8-ff9f-4609-ecbe-07874c0fb06e"
      },
      "source": [
        "data = df[df['nome_area']==input()].groupby('fornitore',as_index = False).sum().sort_values('numero_dosi',ascending=False)[['fornitore','numero_dosi']]\n",
        "fig = plt.figure()\n",
        "ax = plt.axes()\n",
        "ax.pie(data['numero_dosi'],labels=data['fornitore'])\n",
        "plt.show()"
      ],
      "execution_count": null,
      "outputs": [
        {
          "name": "stdout",
          "output_type": "stream",
          "text": [
            "Abruzzo\n"
          ]
        },
        {
          "output_type": "display_data",
          "data": {
            "image/png": "[encoded data removed]",
            "text/plain": [
              "<Figure size 432x288 with 1 Axes>"
            ]
          },
          "metadata": {}
        }
      ]
    },
    {
      "cell_type": "markdown",
      "metadata": {
        "id": "atOmgi6TrEvs"
      },
      "source": [
        "9. visualizzare le informazioni dell'esercizio 6 con un grafico treemap\n"
      ]
    },
    {
      "cell_type": "code",
      "metadata": {
        "colab": {
          "base_uri": "https://localhost:8080/",
          "height": 286
        },
        "id": "QOfo0yP-rIwU",
        "outputId": "2e3c8339-4ecf-4098-b7a5-1aa2b63e18a4"
      },
      "source": [
        "data = df[df['nome_area']==input()].groupby('fornitore',as_index = False).sum().sort_values('numero_dosi',ascending=False)[['fornitore','numero_dosi']]\n",
        "fig = plt.figure()\n",
        "ax = plt.axes()\n",
        "sqrfy.plot(data['numero_dosi'],label=data['fornitore'])\n",
        "plt.show()"
      ],
      "execution_count": null,
      "outputs": [
        {
          "name": "stdout",
          "output_type": "stream",
          "text": [
            "Abruzzo\n"
          ]
        },
        {
          "output_type": "display_data",
          "data": {
            "image/png": "[encoded data removed]",
            "text/plain": [
              "<Figure size 432x288 with 1 Axes>"
            ]
          },
          "metadata": {
            "needs_background": "light"
          }
        }
      ]
    },
    {
      "cell_type": "markdown",
      "metadata": {
        "id": "uz5Pqi7-rI7M"
      },
      "source": [
        "10. visualizzare i nomi delle tre regioni in cui sono stati consegnati più vaccini\n"
      ]
    },
    {
      "cell_type": "code",
      "metadata": {
        "colab": {
          "base_uri": "https://localhost:8080/"
        },
        "id": "6mfH6UX-rKWl",
        "outputId": "4f783987-b5c4-4ee0-f790-3334232ddf7b"
      },
      "source": [
        "df.groupby('nome_area')['numero_dosi'].sum().sort_values(ascending= False).head(3)"
      ],
      "execution_count": null,
      "outputs": [
        {
          "output_type": "execute_result",
          "data": {
            "text/plain": [
              "nome_area\n",
              "Lombardia    17274689\n",
              "Lazio        10332809\n",
              "Campania      9179718\n",
              "Name: numero_dosi, dtype: int64"
            ]
          },
          "metadata": {},
          "execution_count": 20
        }
      ]
    },
    {
      "cell_type": "markdown",
      "metadata": {
        "id": "L71BbOrNrKhs"
      },
      "source": [
        "11. visualizzare i nomi delle regioni in cui sono stati consegnati un numero di vaccini inferiore alla media\n"
      ]
    },
    {
      "cell_type": "code",
      "metadata": {
        "colab": {
          "base_uri": "https://localhost:8080/"
        },
        "id": "lvQZ1WQ-rQEc",
        "outputId": "62bc3a42-0588-47d8-b480-ae38133c1ac0"
      },
      "source": [
        "df.groupby('nome_area')['numero_dosi'].sum()[df.groupby('nome_area')['numero_dosi'].sum()< df.groupby('nome_area')['numero_dosi'].sum().mean()]"
      ],
      "execution_count": null,
      "outputs": [
        {
          "output_type": "execute_result",
          "data": {
            "text/plain": [
              "nome_area\n",
              "Abruzzo                               2267252\n",
              "Basilicata                             936665\n",
              "Calabria                              2902284\n",
              "Friuli-Venezia Giulia                 2031903\n",
              "Liguria                               2547002\n",
              "Marche                                2507456\n",
              "Molise                                 506050\n",
              "Provincia Autonoma Bolzano / Bozen     793879\n",
              "Provincia Autonoma Trento              878910\n",
              "Sardegna                              2751776\n",
              "Umbria                                1469397\n",
              "Valle d'Aosta / Vallée d'Aoste         191150\n",
              "Name: numero_dosi, dtype: int64"
            ]
          },
          "metadata": {},
          "execution_count": 21
        }
      ]
    },
    {
      "cell_type": "markdown",
      "metadata": {
        "id": "H0p-Zui9rMC0"
      },
      "source": [
        "12. visualizzare il grafico delle consegne dei vaccini in Lombardia e nel Lazio. Visualizzare solo i dati delle\n",
        "consegne avvenute negli utlimi sei mesi. Fare in modo che la data sia determinata in modo automatico\n"
      ]
    },
    {
      "cell_type": "code",
      "metadata": {
        "id": "auVrKO6RrMns"
      },
      "source": [
        ""
      ],
      "execution_count": null,
      "outputs": []
    }
  ]
}
