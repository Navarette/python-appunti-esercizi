{
  "nbformat": 4,
  "nbformat_minor": 0,
  "metadata": {
    "colab": {
      "name": "Copia di Esercizio 4",
      "provenance": [],
      "collapsed_sections": []
    },
    "kernelspec": {
      "name": "python3",
      "display_name": "Python 3"
    },
    "language_info": {
      "name": "python"
    }
  },
  "cells": [
    {
      "cell_type": "code",
      "metadata": {
        "id": "bxB4tBapsNju",
        "colab": {
          "base_uri": "https://localhost:8080/"
        },
        "outputId": "edca938d-d07a-4853-c736-4f589070c4b2"
      },
      "source": [
        "#1\n",
        "def media (x,y):\n",
        "\n",
        "  return (x+y)/2\n",
        "\n",
        "print(media(int(input()),int(input())))  \n"
      ],
      "execution_count": null,
      "outputs": [
        {
          "output_type": "stream",
          "name": "stdout",
          "text": [
            "2\n",
            "2\n",
            "2.0\n"
          ]
        }
      ]
    },
    {
      "cell_type": "code",
      "metadata": {
        "id": "FOD8UTKctZcq",
        "colab": {
          "base_uri": "https://localhost:8080/",
          "height": 70
        },
        "outputId": "0d9a8ac0-826c-4fd8-a2d4-15a31c6edd84"
      },
      "source": [
        "#2\n",
        "def piuCorta (list1,list2):\n",
        "\n",
        "  return min(list1,list2)\n",
        "piuCorta(list1=input(),list2=input())\n"
      ],
      "execution_count": null,
      "outputs": [
        {
          "name": "stdout",
          "output_type": "stream",
          "text": [
            "1,2,3\n",
            "2\n"
          ]
        },
        {
          "output_type": "execute_result",
          "data": {
            "application/vnd.google.colaboratory.intrinsic+json": {
              "type": "string"
            },
            "text/plain": [
              "'1,2,3'"
            ]
          },
          "metadata": {},
          "execution_count": 2
        }
      ]
    },
    {
      "cell_type": "code",
      "metadata": {
        "id": "kSGZS7VPu7Lz"
      },
      "source": [
        "#3\n",
        "def costruisciLista (x,y):\n",
        " a=min(x,y)\n",
        " b=max(x,y)\n",
        " st = [i for i in range(a,b+1)]\n",
        " return sorted(st,reverse= True)\n",
        "\n",
        "print(costruisciLista(int(input()),int(input())))\n",
        "\n"
      ],
      "execution_count": null,
      "outputs": []
    },
    {
      "cell_type": "code",
      "metadata": {
        "colab": {
          "base_uri": "https://localhost:8080/"
        },
        "id": "9cMDnNQuxGEM",
        "outputId": "3b5a9666-2fdd-4a20-fa76-7227933dd4d2"
      },
      "source": [
        "#4\n",
        "arr= input().split(\",\")\n",
        "def valoreAssoluto(n):\n",
        "  return abs(n)\n",
        "print([valoreAssoluto(float(i))for i in arr])"
      ],
      "execution_count": null,
      "outputs": [
        {
          "output_type": "stream",
          "name": "stdout",
          "text": [
            "1,-2,3\n",
            "[1.0, 2.0, 3.0]\n"
          ]
        }
      ]
    },
    {
      "cell_type": "code",
      "metadata": {
        "id": "SYPqls8_8pQE",
        "colab": {
          "base_uri": "https://localhost:8080/",
          "height": 132
        },
        "outputId": "4e2cd977-9973-4c8b-a184-1da557c8946b"
      },
      "source": [
        "#5\n",
        "def scambia(z):\n",
        "  z.reverse()\n",
        "  return z\n",
        " scambia([(int(input()))for i in range(0,10)])"
      ],
      "execution_count": null,
      "outputs": [
        {
          "output_type": "error",
          "ename": "IndentationError",
          "evalue": "ignored",
          "traceback": [
            "\u001b[0;36m  File \u001b[0;32m\"<ipython-input-40-8314e4ef4fae>\"\u001b[0;36m, line \u001b[0;32m5\u001b[0m\n\u001b[0;31m    scambia([(int(input()))for i in range(0,10)])\u001b[0m\n\u001b[0m                                                 ^\u001b[0m\n\u001b[0;31mIndentationError\u001b[0m\u001b[0;31m:\u001b[0m unindent does not match any outer indentation level\n"
          ]
        }
      ]
    },
    {
      "cell_type": "code",
      "metadata": {
        "id": "_fam9EWABO7d"
      },
      "source": [
        "#6\n",
        "z=lambda x,y:x+y\n",
        "z(int(input(\"x \")),int(input(\"y \")))\n"
      ],
      "execution_count": null,
      "outputs": []
    },
    {
      "cell_type": "code",
      "metadata": {
        "id": "GIY-rn-mpG4i"
      },
      "source": [
        "#7\n",
        "lst=[int(input())]\n",
        "list(map(lambda x:x+10,lst))"
      ],
      "execution_count": null,
      "outputs": []
    },
    {
      "cell_type": "code",
      "metadata": {
        "id": "Nt2hqUO-AK2V"
      },
      "source": [
        "#8\n",
        "lst=[int(input())for i in range(0,10)]\n",
        "if lambda x:x<0:\n",
        "  [lst[0]= 0 for lst in range(0,10)]\n",
        "\n",
        "print(lst)"
      ],
      "execution_count": null,
      "outputs": []
    },
    {
      "cell_type": "code",
      "metadata": {
        "id": "hXfT5-kkA-Zx"
      },
      "source": [
        "#9\n",
        "fattoriale = lambda n: 1 if n == 0 else n * fattoriale(n-1)\n",
        "fattoriale(1)"
      ],
      "execution_count": null,
      "outputs": []
    }
  ]
}
