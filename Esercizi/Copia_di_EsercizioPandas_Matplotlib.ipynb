{
  "nbformat": 4,
  "nbformat_minor": 0,
  "metadata": {
    "colab": {
      "name": "Copia di EsercizioPandas/Matplotlib.ipynb",
      "provenance": [],
      "collapsed_sections": []
    },
    "kernelspec": {
      "name": "python3",
      "display_name": "Python 3"
    },
    "language_info": {
      "name": "python"
    }
  },
  "cells": [
    {
      "cell_type": "code",
      "metadata": {
        "id": "HqZj1IOvZu6c"
      },
      "source": [
        "import pandas as pd\n",
        "import matplotlib.pyplot  as plt \n",
        "import numpy as np\n"
      ],
      "execution_count": null,
      "outputs": []
    },
    {
      "cell_type": "markdown",
      "metadata": {
        "id": "0N0NQeXZbsx-"
      },
      "source": [
        "1 Crei un dataframe Pandas contenente le informazioni presenti nella collection\n"
      ]
    },
    {
      "cell_type": "code",
      "metadata": {
        "colab": {
          "base_uri": "https://localhost:8080/",
          "height": 423
        },
        "id": "gmzk0Z_Lbvne",
        "outputId": "c4baca9e-b0dc-4e20-97e0-df1429bb41d1"
      },
      "source": [
        "df = pd.read_csv('https://raw.githubusercontent.com/wtitze/4E/main/ristoranti.csv')\n",
        "df"
      ],
      "execution_count": null,
      "outputs": [
        {
          "output_type": "execute_result",
          "data": {
            "text/html": [
              "<div>\n",
              "<style scoped>\n",
              "    .dataframe tbody tr th:only-of-type {\n",
              "        vertical-align: middle;\n",
              "    }\n",
              "\n",
              "    .dataframe tbody tr th {\n",
              "        vertical-align: top;\n",
              "    }\n",
              "\n",
              "    .dataframe thead th {\n",
              "        text-align: right;\n",
              "    }\n",
              "</style>\n",
              "<table border=\"1\" class=\"dataframe\">\n",
              "  <thead>\n",
              "    <tr style=\"text-align: right;\">\n",
              "      <th></th>\n",
              "      <th>N</th>\n",
              "      <th>address</th>\n",
              "      <th>borough</th>\n",
              "      <th>cuisine</th>\n",
              "      <th>grades</th>\n",
              "      <th>name</th>\n",
              "      <th>restaurant_id</th>\n",
              "    </tr>\n",
              "  </thead>\n",
              "  <tbody>\n",
              "    <tr>\n",
              "      <th>0</th>\n",
              "      <td>0</td>\n",
              "      <td>{'building': '8825', 'coord': [-73.8803827, 40...</td>\n",
              "      <td>Queens</td>\n",
              "      <td>American</td>\n",
              "      <td>[{'date': datetime.datetime(2014, 11, 15, 0, 0...</td>\n",
              "      <td>Brunos On The Boulevard</td>\n",
              "      <td>40356151</td>\n",
              "    </tr>\n",
              "    <tr>\n",
              "      <th>1</th>\n",
              "      <td>1</td>\n",
              "      <td>{'building': '156-71', 'coord': [-73.840437, 4...</td>\n",
              "      <td>Queens</td>\n",
              "      <td>Pizza/Italian</td>\n",
              "      <td>[{'date': datetime.datetime(2014, 10, 29, 0, 0...</td>\n",
              "      <td>New Park Pizzeria &amp; Restaurant</td>\n",
              "      <td>40364744</td>\n",
              "    </tr>\n",
              "    <tr>\n",
              "      <th>2</th>\n",
              "      <td>2</td>\n",
              "      <td>{'building': '6409', 'coord': [-74.00528899999...</td>\n",
              "      <td>Brooklyn</td>\n",
              "      <td>American</td>\n",
              "      <td>[{'date': datetime.datetime(2014, 7, 18, 0, 0)...</td>\n",
              "      <td>Regina Caterers</td>\n",
              "      <td>40356649</td>\n",
              "    </tr>\n",
              "    <tr>\n",
              "      <th>3</th>\n",
              "      <td>3</td>\n",
              "      <td>{'building': '2491', 'coord': [-74.1459332, 40...</td>\n",
              "      <td>Staten Island</td>\n",
              "      <td>Delicatessen</td>\n",
              "      <td>[{'date': datetime.datetime(2015, 1, 9, 0, 0),...</td>\n",
              "      <td>Bagels N Buns</td>\n",
              "      <td>40363427</td>\n",
              "    </tr>\n",
              "    <tr>\n",
              "      <th>4</th>\n",
              "      <td>4</td>\n",
              "      <td>{'building': '56', 'coord': [-74.004758, 40.74...</td>\n",
              "      <td>Manhattan</td>\n",
              "      <td>American</td>\n",
              "      <td>[{'date': datetime.datetime(2014, 6, 10, 0, 0)...</td>\n",
              "      <td>Old Homestead</td>\n",
              "      <td>40364715</td>\n",
              "    </tr>\n",
              "    <tr>\n",
              "      <th>...</th>\n",
              "      <td>...</td>\n",
              "      <td>...</td>\n",
              "      <td>...</td>\n",
              "      <td>...</td>\n",
              "      <td>...</td>\n",
              "      <td>...</td>\n",
              "      <td>...</td>\n",
              "    </tr>\n",
              "    <tr>\n",
              "      <th>25354</th>\n",
              "      <td>25354</td>\n",
              "      <td>{'building': 'ONE', 'coord': [-81.664363600000...</td>\n",
              "      <td>Queens</td>\n",
              "      <td>Other</td>\n",
              "      <td>[]</td>\n",
              "      <td>Camden Food Express</td>\n",
              "      <td>50018316</td>\n",
              "    </tr>\n",
              "    <tr>\n",
              "      <th>25355</th>\n",
              "      <td>25355</td>\n",
              "      <td>{'building': '700', 'coord': [-73.988230600000...</td>\n",
              "      <td>Manhattan</td>\n",
              "      <td>Other</td>\n",
              "      <td>[]</td>\n",
              "      <td>Wooly'S Nyc</td>\n",
              "      <td>50018495</td>\n",
              "    </tr>\n",
              "    <tr>\n",
              "      <th>25356</th>\n",
              "      <td>25356</td>\n",
              "      <td>{'building': '2144', 'coord': [-73.9552561, 40...</td>\n",
              "      <td>Manhattan</td>\n",
              "      <td>Other</td>\n",
              "      <td>[]</td>\n",
              "      <td>Rafi 786</td>\n",
              "      <td>50018553</td>\n",
              "    </tr>\n",
              "    <tr>\n",
              "      <th>25357</th>\n",
              "      <td>25357</td>\n",
              "      <td>{'building': '1448', 'coord': [-73.93032629999...</td>\n",
              "      <td>Brooklyn</td>\n",
              "      <td>Other</td>\n",
              "      <td>[]</td>\n",
              "      <td>NaN</td>\n",
              "      <td>50018721</td>\n",
              "    </tr>\n",
              "    <tr>\n",
              "      <th>25358</th>\n",
              "      <td>25358</td>\n",
              "      <td>{'building': '167', 'coord': [-73.9833565, 40....</td>\n",
              "      <td>Manhattan</td>\n",
              "      <td>Other</td>\n",
              "      <td>[]</td>\n",
              "      <td>Buttercup Bake Shop</td>\n",
              "      <td>50018710</td>\n",
              "    </tr>\n",
              "  </tbody>\n",
              "</table>\n",
              "<p>25359 rows × 7 columns</p>\n",
              "</div>"
            ],
            "text/plain": [
              "           N  ... restaurant_id\n",
              "0          0  ...      40356151\n",
              "1          1  ...      40364744\n",
              "2          2  ...      40356649\n",
              "3          3  ...      40363427\n",
              "4          4  ...      40364715\n",
              "...      ...  ...           ...\n",
              "25354  25354  ...      50018316\n",
              "25355  25355  ...      50018495\n",
              "25356  25356  ...      50018553\n",
              "25357  25357  ...      50018721\n",
              "25358  25358  ...      50018710\n",
              "\n",
              "[25359 rows x 7 columns]"
            ]
          },
          "metadata": {},
          "execution_count": 2
        }
      ]
    },
    {
      "cell_type": "markdown",
      "metadata": {
        "id": "NX34ZVdycBzT"
      },
      "source": [
        "2 Elimini tutte le colonne ad esclusione di ‘borough’, ‘cuisine’ e ‘name’"
      ]
    },
    {
      "cell_type": "code",
      "metadata": {
        "colab": {
          "base_uri": "https://localhost:8080/",
          "height": 423
        },
        "id": "W_zMDUmYcCBb",
        "outputId": "ebfed1e0-2e03-450e-95aa-a8509a6fe512"
      },
      "source": [
        "df = df.filter(['borough','cuisine', 'name'])\n",
        "df"
      ],
      "execution_count": null,
      "outputs": [
        {
          "output_type": "execute_result",
          "data": {
            "text/html": [
              "<div>\n",
              "<style scoped>\n",
              "    .dataframe tbody tr th:only-of-type {\n",
              "        vertical-align: middle;\n",
              "    }\n",
              "\n",
              "    .dataframe tbody tr th {\n",
              "        vertical-align: top;\n",
              "    }\n",
              "\n",
              "    .dataframe thead th {\n",
              "        text-align: right;\n",
              "    }\n",
              "</style>\n",
              "<table border=\"1\" class=\"dataframe\">\n",
              "  <thead>\n",
              "    <tr style=\"text-align: right;\">\n",
              "      <th></th>\n",
              "      <th>borough</th>\n",
              "      <th>cuisine</th>\n",
              "      <th>name</th>\n",
              "    </tr>\n",
              "  </thead>\n",
              "  <tbody>\n",
              "    <tr>\n",
              "      <th>0</th>\n",
              "      <td>Queens</td>\n",
              "      <td>American</td>\n",
              "      <td>Brunos On The Boulevard</td>\n",
              "    </tr>\n",
              "    <tr>\n",
              "      <th>1</th>\n",
              "      <td>Queens</td>\n",
              "      <td>Pizza/Italian</td>\n",
              "      <td>New Park Pizzeria &amp; Restaurant</td>\n",
              "    </tr>\n",
              "    <tr>\n",
              "      <th>2</th>\n",
              "      <td>Brooklyn</td>\n",
              "      <td>American</td>\n",
              "      <td>Regina Caterers</td>\n",
              "    </tr>\n",
              "    <tr>\n",
              "      <th>3</th>\n",
              "      <td>Staten Island</td>\n",
              "      <td>Delicatessen</td>\n",
              "      <td>Bagels N Buns</td>\n",
              "    </tr>\n",
              "    <tr>\n",
              "      <th>4</th>\n",
              "      <td>Manhattan</td>\n",
              "      <td>American</td>\n",
              "      <td>Old Homestead</td>\n",
              "    </tr>\n",
              "    <tr>\n",
              "      <th>...</th>\n",
              "      <td>...</td>\n",
              "      <td>...</td>\n",
              "      <td>...</td>\n",
              "    </tr>\n",
              "    <tr>\n",
              "      <th>25354</th>\n",
              "      <td>Queens</td>\n",
              "      <td>Other</td>\n",
              "      <td>Camden Food Express</td>\n",
              "    </tr>\n",
              "    <tr>\n",
              "      <th>25355</th>\n",
              "      <td>Manhattan</td>\n",
              "      <td>Other</td>\n",
              "      <td>Wooly'S Nyc</td>\n",
              "    </tr>\n",
              "    <tr>\n",
              "      <th>25356</th>\n",
              "      <td>Manhattan</td>\n",
              "      <td>Other</td>\n",
              "      <td>Rafi 786</td>\n",
              "    </tr>\n",
              "    <tr>\n",
              "      <th>25357</th>\n",
              "      <td>Brooklyn</td>\n",
              "      <td>Other</td>\n",
              "      <td>NaN</td>\n",
              "    </tr>\n",
              "    <tr>\n",
              "      <th>25358</th>\n",
              "      <td>Manhattan</td>\n",
              "      <td>Other</td>\n",
              "      <td>Buttercup Bake Shop</td>\n",
              "    </tr>\n",
              "  </tbody>\n",
              "</table>\n",
              "<p>25359 rows × 3 columns</p>\n",
              "</div>"
            ],
            "text/plain": [
              "             borough        cuisine                            name\n",
              "0             Queens       American         Brunos On The Boulevard\n",
              "1             Queens  Pizza/Italian  New Park Pizzeria & Restaurant\n",
              "2           Brooklyn       American                 Regina Caterers\n",
              "3      Staten Island   Delicatessen                   Bagels N Buns\n",
              "4          Manhattan       American                   Old Homestead\n",
              "...              ...            ...                             ...\n",
              "25354         Queens          Other             Camden Food Express\n",
              "25355      Manhattan          Other                    Wooly'S Nyc \n",
              "25356      Manhattan          Other                        Rafi 786\n",
              "25357       Brooklyn          Other                             NaN\n",
              "25358      Manhattan          Other             Buttercup Bake Shop\n",
              "\n",
              "[25359 rows x 3 columns]"
            ]
          },
          "metadata": {},
          "execution_count": 3
        }
      ]
    },
    {
      "cell_type": "markdown",
      "metadata": {
        "id": "J_kNJv6Cd9Qg"
      },
      "source": [
        "3 Conti il numero di ristoranti che hanno ‘Missing’ come quartiere"
      ]
    },
    {
      "cell_type": "code",
      "metadata": {
        "colab": {
          "base_uri": "https://localhost:8080/"
        },
        "id": "EJul0ktId_fg",
        "outputId": "13e76ea1-322c-4bfe-aba6-a110b60f298b"
      },
      "source": [
        "df[df['borough']=='Missing'].count()"
      ],
      "execution_count": null,
      "outputs": [
        {
          "output_type": "execute_result",
          "data": {
            "text/plain": [
              "borough    51\n",
              "cuisine    51\n",
              "name       51\n",
              "dtype: int64"
            ]
          },
          "metadata": {},
          "execution_count": 4
        }
      ]
    },
    {
      "cell_type": "markdown",
      "metadata": {
        "id": "A6Yg85q0fLtl"
      },
      "source": [
        "4 Sostituisca alla parola ‘Missing’ il valore null"
      ]
    },
    {
      "cell_type": "code",
      "metadata": {
        "id": "ZkAJQGtofOdE"
      },
      "source": [
        "df['borough'].replace(\"Missing\",np.nan, inplace = True)\n"
      ],
      "execution_count": null,
      "outputs": []
    },
    {
      "cell_type": "markdown",
      "metadata": {
        "id": "k0YNBAYFj9ga"
      },
      "source": [
        "5 Elimini dal dataframe tutti i ristoranti di cui non si conosce il quartiere"
      ]
    },
    {
      "cell_type": "code",
      "metadata": {
        "colab": {
          "base_uri": "https://localhost:8080/",
          "height": 1000
        },
        "id": "RQo-sEcIkAaB",
        "outputId": "34926493-47e5-47a3-f69e-022121a82c0c"
      },
      "source": [
        "df[df['borough'].isnull()]\n"
      ],
      "execution_count": null,
      "outputs": [
        {
          "output_type": "execute_result",
          "data": {
            "text/html": [
              "<div>\n",
              "<style scoped>\n",
              "    .dataframe tbody tr th:only-of-type {\n",
              "        vertical-align: middle;\n",
              "    }\n",
              "\n",
              "    .dataframe tbody tr th {\n",
              "        vertical-align: top;\n",
              "    }\n",
              "\n",
              "    .dataframe thead th {\n",
              "        text-align: right;\n",
              "    }\n",
              "</style>\n",
              "<table border=\"1\" class=\"dataframe\">\n",
              "  <thead>\n",
              "    <tr style=\"text-align: right;\">\n",
              "      <th></th>\n",
              "      <th>borough</th>\n",
              "      <th>cuisine</th>\n",
              "      <th>name</th>\n",
              "    </tr>\n",
              "  </thead>\n",
              "  <tbody>\n",
              "    <tr>\n",
              "      <th>16170</th>\n",
              "      <td>NaN</td>\n",
              "      <td>Café/Coffee/Tea</td>\n",
              "      <td>Starbucks Coffee</td>\n",
              "    </tr>\n",
              "    <tr>\n",
              "      <th>18667</th>\n",
              "      <td>NaN</td>\n",
              "      <td>Mexican</td>\n",
              "      <td>Place To Beach Cantina</td>\n",
              "    </tr>\n",
              "    <tr>\n",
              "      <th>20016</th>\n",
              "      <td>NaN</td>\n",
              "      <td>Bakery</td>\n",
              "      <td>Paris Baguette</td>\n",
              "    </tr>\n",
              "    <tr>\n",
              "      <th>20246</th>\n",
              "      <td>NaN</td>\n",
              "      <td>Chinese</td>\n",
              "      <td>Unique Bakery</td>\n",
              "    </tr>\n",
              "    <tr>\n",
              "      <th>20385</th>\n",
              "      <td>NaN</td>\n",
              "      <td>Delicatessen</td>\n",
              "      <td>Rosedale Delicatessen</td>\n",
              "    </tr>\n",
              "    <tr>\n",
              "      <th>20504</th>\n",
              "      <td>NaN</td>\n",
              "      <td>Chicken</td>\n",
              "      <td>Kfc</td>\n",
              "    </tr>\n",
              "    <tr>\n",
              "      <th>20509</th>\n",
              "      <td>NaN</td>\n",
              "      <td>American</td>\n",
              "      <td>Crowne Plaza-Jfk Airport</td>\n",
              "    </tr>\n",
              "    <tr>\n",
              "      <th>20518</th>\n",
              "      <td>NaN</td>\n",
              "      <td>Chicken</td>\n",
              "      <td>Kfc</td>\n",
              "    </tr>\n",
              "    <tr>\n",
              "      <th>20582</th>\n",
              "      <td>NaN</td>\n",
              "      <td>Café/Coffee/Tea</td>\n",
              "      <td>By The Way Bakery</td>\n",
              "    </tr>\n",
              "    <tr>\n",
              "      <th>20591</th>\n",
              "      <td>NaN</td>\n",
              "      <td>Caribbean</td>\n",
              "      <td>Golden Krust</td>\n",
              "    </tr>\n",
              "    <tr>\n",
              "      <th>20630</th>\n",
              "      <td>NaN</td>\n",
              "      <td>Chicken</td>\n",
              "      <td>Kfc</td>\n",
              "    </tr>\n",
              "    <tr>\n",
              "      <th>20635</th>\n",
              "      <td>NaN</td>\n",
              "      <td>American</td>\n",
              "      <td>Nix Mix</td>\n",
              "    </tr>\n",
              "    <tr>\n",
              "      <th>20671</th>\n",
              "      <td>NaN</td>\n",
              "      <td>Bakery</td>\n",
              "      <td>Haute So Sweet</td>\n",
              "    </tr>\n",
              "    <tr>\n",
              "      <th>20679</th>\n",
              "      <td>NaN</td>\n",
              "      <td>American</td>\n",
              "      <td>Kfc</td>\n",
              "    </tr>\n",
              "    <tr>\n",
              "      <th>20694</th>\n",
              "      <td>NaN</td>\n",
              "      <td>American</td>\n",
              "      <td>Kfc</td>\n",
              "    </tr>\n",
              "    <tr>\n",
              "      <th>20695</th>\n",
              "      <td>NaN</td>\n",
              "      <td>American</td>\n",
              "      <td>Kfc (Queens Center Mall)</td>\n",
              "    </tr>\n",
              "    <tr>\n",
              "      <th>20705</th>\n",
              "      <td>NaN</td>\n",
              "      <td>Chicken</td>\n",
              "      <td>Kfc</td>\n",
              "    </tr>\n",
              "    <tr>\n",
              "      <th>20730</th>\n",
              "      <td>NaN</td>\n",
              "      <td>Chicken</td>\n",
              "      <td>Kfc</td>\n",
              "    </tr>\n",
              "    <tr>\n",
              "      <th>20732</th>\n",
              "      <td>NaN</td>\n",
              "      <td>Juice, Smoothies, Fruit Salads</td>\n",
              "      <td>Eden'S Organic Natural Juices 7 Bubble Teas</td>\n",
              "    </tr>\n",
              "    <tr>\n",
              "      <th>20740</th>\n",
              "      <td>NaN</td>\n",
              "      <td>Chicken</td>\n",
              "      <td>Kfc</td>\n",
              "    </tr>\n",
              "    <tr>\n",
              "      <th>20746</th>\n",
              "      <td>NaN</td>\n",
              "      <td>Japanese</td>\n",
              "      <td>Tokyo Tapas Cafe</td>\n",
              "    </tr>\n",
              "    <tr>\n",
              "      <th>20783</th>\n",
              "      <td>NaN</td>\n",
              "      <td>American</td>\n",
              "      <td>Kfc</td>\n",
              "    </tr>\n",
              "    <tr>\n",
              "      <th>20802</th>\n",
              "      <td>NaN</td>\n",
              "      <td>Jewish/Kosher</td>\n",
              "      <td>Avenue P Appetizer</td>\n",
              "    </tr>\n",
              "    <tr>\n",
              "      <th>20843</th>\n",
              "      <td>NaN</td>\n",
              "      <td>American</td>\n",
              "      <td>Kfc</td>\n",
              "    </tr>\n",
              "    <tr>\n",
              "      <th>20845</th>\n",
              "      <td>NaN</td>\n",
              "      <td>Other</td>\n",
              "      <td>J &amp; B Yummy Pizza</td>\n",
              "    </tr>\n",
              "    <tr>\n",
              "      <th>20851</th>\n",
              "      <td>NaN</td>\n",
              "      <td>Café/Coffee/Tea</td>\n",
              "      <td>Gasoline Alley Coffee</td>\n",
              "    </tr>\n",
              "    <tr>\n",
              "      <th>20856</th>\n",
              "      <td>NaN</td>\n",
              "      <td>Chinese</td>\n",
              "      <td>Loong Xin Asian Cuisine</td>\n",
              "    </tr>\n",
              "    <tr>\n",
              "      <th>20885</th>\n",
              "      <td>NaN</td>\n",
              "      <td>Chinese</td>\n",
              "      <td>China Blue</td>\n",
              "    </tr>\n",
              "    <tr>\n",
              "      <th>20892</th>\n",
              "      <td>NaN</td>\n",
              "      <td>Peruvian</td>\n",
              "      <td>Lima 33</td>\n",
              "    </tr>\n",
              "    <tr>\n",
              "      <th>20899</th>\n",
              "      <td>NaN</td>\n",
              "      <td>Chinese</td>\n",
              "      <td>New Win Hing Inc</td>\n",
              "    </tr>\n",
              "    <tr>\n",
              "      <th>20901</th>\n",
              "      <td>NaN</td>\n",
              "      <td>American</td>\n",
              "      <td>Kfc</td>\n",
              "    </tr>\n",
              "    <tr>\n",
              "      <th>20915</th>\n",
              "      <td>NaN</td>\n",
              "      <td>Spanish</td>\n",
              "      <td>Bocaito Cafe &amp; Wine Bar</td>\n",
              "    </tr>\n",
              "    <tr>\n",
              "      <th>20929</th>\n",
              "      <td>NaN</td>\n",
              "      <td>Café/Coffee/Tea</td>\n",
              "      <td>Ost Cafe</td>\n",
              "    </tr>\n",
              "    <tr>\n",
              "      <th>20946</th>\n",
              "      <td>NaN</td>\n",
              "      <td>Chicken</td>\n",
              "      <td>Kfc</td>\n",
              "    </tr>\n",
              "    <tr>\n",
              "      <th>20948</th>\n",
              "      <td>NaN</td>\n",
              "      <td>German</td>\n",
              "      <td>Bavaria Bierhouse</td>\n",
              "    </tr>\n",
              "    <tr>\n",
              "      <th>20952</th>\n",
              "      <td>NaN</td>\n",
              "      <td>Other</td>\n",
              "      <td>Tu Salud Es Riqueza</td>\n",
              "    </tr>\n",
              "    <tr>\n",
              "      <th>20993</th>\n",
              "      <td>NaN</td>\n",
              "      <td>Other</td>\n",
              "      <td>Kfc</td>\n",
              "    </tr>\n",
              "    <tr>\n",
              "      <th>21042</th>\n",
              "      <td>NaN</td>\n",
              "      <td>Chicken</td>\n",
              "      <td>Mama Fried Chicken</td>\n",
              "    </tr>\n",
              "    <tr>\n",
              "      <th>21136</th>\n",
              "      <td>NaN</td>\n",
              "      <td>American</td>\n",
              "      <td>Vivid Cabaret</td>\n",
              "    </tr>\n",
              "    <tr>\n",
              "      <th>21218</th>\n",
              "      <td>NaN</td>\n",
              "      <td>Chicken</td>\n",
              "      <td>Buffalo Wild Wings Grill &amp; Bar</td>\n",
              "    </tr>\n",
              "    <tr>\n",
              "      <th>21224</th>\n",
              "      <td>NaN</td>\n",
              "      <td>Chinese</td>\n",
              "      <td>Friend Restaurant</td>\n",
              "    </tr>\n",
              "    <tr>\n",
              "      <th>21248</th>\n",
              "      <td>NaN</td>\n",
              "      <td>Chinese</td>\n",
              "      <td>Di Di Dumpling</td>\n",
              "    </tr>\n",
              "    <tr>\n",
              "      <th>21263</th>\n",
              "      <td>NaN</td>\n",
              "      <td>Pizza</td>\n",
              "      <td>M &amp; U Pizzeria</td>\n",
              "    </tr>\n",
              "    <tr>\n",
              "      <th>21282</th>\n",
              "      <td>NaN</td>\n",
              "      <td>Japanese</td>\n",
              "      <td>Cho-Ko Restaurant</td>\n",
              "    </tr>\n",
              "    <tr>\n",
              "      <th>21304</th>\n",
              "      <td>NaN</td>\n",
              "      <td>Seafood</td>\n",
              "      <td>Black Crescent</td>\n",
              "    </tr>\n",
              "    <tr>\n",
              "      <th>21306</th>\n",
              "      <td>NaN</td>\n",
              "      <td>Sandwiches/Salads/Mixed Buffet</td>\n",
              "      <td>Juice</td>\n",
              "    </tr>\n",
              "    <tr>\n",
              "      <th>21741</th>\n",
              "      <td>NaN</td>\n",
              "      <td>American</td>\n",
              "      <td>Better Gourmet Health Kitchen</td>\n",
              "    </tr>\n",
              "    <tr>\n",
              "      <th>22394</th>\n",
              "      <td>NaN</td>\n",
              "      <td>Asian</td>\n",
              "      <td>Little Neck Shanghai &amp; Taiwanese Cuisine</td>\n",
              "    </tr>\n",
              "    <tr>\n",
              "      <th>22616</th>\n",
              "      <td>NaN</td>\n",
              "      <td>Salads</td>\n",
              "      <td>Revive</td>\n",
              "    </tr>\n",
              "    <tr>\n",
              "      <th>22625</th>\n",
              "      <td>NaN</td>\n",
              "      <td>Sandwiches</td>\n",
              "      <td>Subway</td>\n",
              "    </tr>\n",
              "    <tr>\n",
              "      <th>24229</th>\n",
              "      <td>NaN</td>\n",
              "      <td>Other</td>\n",
              "      <td>Catholic Diocese Of Brooklyn</td>\n",
              "    </tr>\n",
              "  </tbody>\n",
              "</table>\n",
              "</div>"
            ],
            "text/plain": [
              "      borough  ...                                         name\n",
              "16170     NaN  ...                             Starbucks Coffee\n",
              "18667     NaN  ...                       Place To Beach Cantina\n",
              "20016     NaN  ...                               Paris Baguette\n",
              "20246     NaN  ...                                Unique Bakery\n",
              "20385     NaN  ...                        Rosedale Delicatessen\n",
              "20504     NaN  ...                                          Kfc\n",
              "20509     NaN  ...                     Crowne Plaza-Jfk Airport\n",
              "20518     NaN  ...                                          Kfc\n",
              "20582     NaN  ...                            By The Way Bakery\n",
              "20591     NaN  ...                                 Golden Krust\n",
              "20630     NaN  ...                                          Kfc\n",
              "20635     NaN  ...                                      Nix Mix\n",
              "20671     NaN  ...                               Haute So Sweet\n",
              "20679     NaN  ...                                          Kfc\n",
              "20694     NaN  ...                                          Kfc\n",
              "20695     NaN  ...                     Kfc (Queens Center Mall)\n",
              "20705     NaN  ...                                          Kfc\n",
              "20730     NaN  ...                                          Kfc\n",
              "20732     NaN  ...  Eden'S Organic Natural Juices 7 Bubble Teas\n",
              "20740     NaN  ...                                          Kfc\n",
              "20746     NaN  ...                             Tokyo Tapas Cafe\n",
              "20783     NaN  ...                                          Kfc\n",
              "20802     NaN  ...                           Avenue P Appetizer\n",
              "20843     NaN  ...                                          Kfc\n",
              "20845     NaN  ...                            J & B Yummy Pizza\n",
              "20851     NaN  ...                        Gasoline Alley Coffee\n",
              "20856     NaN  ...                      Loong Xin Asian Cuisine\n",
              "20885     NaN  ...                                   China Blue\n",
              "20892     NaN  ...                                      Lima 33\n",
              "20899     NaN  ...                             New Win Hing Inc\n",
              "20901     NaN  ...                                          Kfc\n",
              "20915     NaN  ...                      Bocaito Cafe & Wine Bar\n",
              "20929     NaN  ...                                     Ost Cafe\n",
              "20946     NaN  ...                                          Kfc\n",
              "20948     NaN  ...                            Bavaria Bierhouse\n",
              "20952     NaN  ...                          Tu Salud Es Riqueza\n",
              "20993     NaN  ...                                          Kfc\n",
              "21042     NaN  ...                           Mama Fried Chicken\n",
              "21136     NaN  ...                                Vivid Cabaret\n",
              "21218     NaN  ...               Buffalo Wild Wings Grill & Bar\n",
              "21224     NaN  ...                            Friend Restaurant\n",
              "21248     NaN  ...                               Di Di Dumpling\n",
              "21263     NaN  ...                               M & U Pizzeria\n",
              "21282     NaN  ...                            Cho-Ko Restaurant\n",
              "21304     NaN  ...                               Black Crescent\n",
              "21306     NaN  ...                                        Juice\n",
              "21741     NaN  ...                Better Gourmet Health Kitchen\n",
              "22394     NaN  ...     Little Neck Shanghai & Taiwanese Cuisine\n",
              "22616     NaN  ...                                       Revive\n",
              "22625     NaN  ...                                       Subway\n",
              "24229     NaN  ...                 Catholic Diocese Of Brooklyn\n",
              "\n",
              "[51 rows x 3 columns]"
            ]
          },
          "metadata": {},
          "execution_count": 6
        }
      ]
    },
    {
      "cell_type": "code",
      "metadata": {
        "id": "32GmthUknNW5"
      },
      "source": [
        "df['borough'].dropna(inplace = True) #dropna serve a togliere gli elementi con NaN"
      ],
      "execution_count": null,
      "outputs": []
    },
    {
      "cell_type": "code",
      "metadata": {
        "colab": {
          "base_uri": "https://localhost:8080/"
        },
        "id": "bkDkkHHrnfvQ",
        "outputId": "ab184b93-fdfd-47b3-d330-76360c10e742"
      },
      "source": [
        "df.count()"
      ],
      "execution_count": null,
      "outputs": [
        {
          "output_type": "execute_result",
          "data": {
            "text/plain": [
              "borough    25308\n",
              "cuisine    25359\n",
              "name       25208\n",
              "dtype: int64"
            ]
          },
          "metadata": {},
          "execution_count": 8
        }
      ]
    },
    {
      "cell_type": "markdown",
      "metadata": {
        "id": "0iWs6hVpoJEC"
      },
      "source": [
        "6 Calcoli il numero di ristoranti per ogni cucina. Ordinare in ordine decrescente a partire dal tipo di cucina che ha più ristoranti"
      ]
    },
    {
      "cell_type": "code",
      "metadata": {
        "colab": {
          "base_uri": "https://localhost:8080/",
          "height": 423
        },
        "id": "LoLOZs4NoL_Z",
        "outputId": "c466f64c-bfaa-43b2-8054-72ff835aaf4b"
      },
      "source": [
        "df1 = df.groupby('cuisine',as_index=False)['name'].count().sort_values('name',ascending = False)\n",
        "df1"
      ],
      "execution_count": null,
      "outputs": [
        {
          "output_type": "execute_result",
          "data": {
            "text/html": [
              "<div>\n",
              "<style scoped>\n",
              "    .dataframe tbody tr th:only-of-type {\n",
              "        vertical-align: middle;\n",
              "    }\n",
              "\n",
              "    .dataframe tbody tr th {\n",
              "        vertical-align: top;\n",
              "    }\n",
              "\n",
              "    .dataframe thead th {\n",
              "        text-align: right;\n",
              "    }\n",
              "</style>\n",
              "<table border=\"1\" class=\"dataframe\">\n",
              "  <thead>\n",
              "    <tr style=\"text-align: right;\">\n",
              "      <th></th>\n",
              "      <th>cuisine</th>\n",
              "      <th>name</th>\n",
              "    </tr>\n",
              "  </thead>\n",
              "  <tbody>\n",
              "    <tr>\n",
              "      <th>2</th>\n",
              "      <td>American</td>\n",
              "      <td>6183</td>\n",
              "    </tr>\n",
              "    <tr>\n",
              "      <th>19</th>\n",
              "      <td>Chinese</td>\n",
              "      <td>2418</td>\n",
              "    </tr>\n",
              "    <tr>\n",
              "      <th>13</th>\n",
              "      <td>Café/Coffee/Tea</td>\n",
              "      <td>1214</td>\n",
              "    </tr>\n",
              "    <tr>\n",
              "      <th>62</th>\n",
              "      <td>Pizza</td>\n",
              "      <td>1163</td>\n",
              "    </tr>\n",
              "    <tr>\n",
              "      <th>46</th>\n",
              "      <td>Italian</td>\n",
              "      <td>1069</td>\n",
              "    </tr>\n",
              "    <tr>\n",
              "      <th>...</th>\n",
              "      <td>...</td>\n",
              "      <td>...</td>\n",
              "    </tr>\n",
              "    <tr>\n",
              "      <th>44</th>\n",
              "      <td>Iranian</td>\n",
              "      <td>2</td>\n",
              "    </tr>\n",
              "    <tr>\n",
              "      <th>65</th>\n",
              "      <td>Polynesian</td>\n",
              "      <td>1</td>\n",
              "    </tr>\n",
              "    <tr>\n",
              "      <th>15</th>\n",
              "      <td>Californian</td>\n",
              "      <td>1</td>\n",
              "    </tr>\n",
              "    <tr>\n",
              "      <th>18</th>\n",
              "      <td>Chilean</td>\n",
              "      <td>1</td>\n",
              "    </tr>\n",
              "    <tr>\n",
              "      <th>24</th>\n",
              "      <td>Creole/Cajun</td>\n",
              "      <td>1</td>\n",
              "    </tr>\n",
              "  </tbody>\n",
              "</table>\n",
              "<p>85 rows × 2 columns</p>\n",
              "</div>"
            ],
            "text/plain": [
              "            cuisine  name\n",
              "2          American  6183\n",
              "19          Chinese  2418\n",
              "13  Café/Coffee/Tea  1214\n",
              "62            Pizza  1163\n",
              "46          Italian  1069\n",
              "..              ...   ...\n",
              "44          Iranian     2\n",
              "65       Polynesian     1\n",
              "15      Californian     1\n",
              "18          Chilean     1\n",
              "24     Creole/Cajun     1\n",
              "\n",
              "[85 rows x 2 columns]"
            ]
          },
          "metadata": {},
          "execution_count": 9
        }
      ]
    },
    {
      "cell_type": "markdown",
      "metadata": {
        "id": "RGm0l--pqrLC"
      },
      "source": [
        "7 Visualizzi il tipo di cucina con più ristoranti"
      ]
    },
    {
      "cell_type": "code",
      "metadata": {
        "colab": {
          "base_uri": "https://localhost:8080/"
        },
        "id": "PqrE22HOquEp",
        "outputId": "85b8efb6-34c7-4764-cebc-c18082f2d5b5"
      },
      "source": [
        "df1[df1['name']==df1['name'].max()]['cuisine']"
      ],
      "execution_count": null,
      "outputs": [
        {
          "output_type": "execute_result",
          "data": {
            "text/plain": [
              "2    American\n",
              "Name: cuisine, dtype: object"
            ]
          },
          "metadata": {},
          "execution_count": 10
        }
      ]
    },
    {
      "cell_type": "markdown",
      "metadata": {
        "id": "DXZ5FlJNrJ37"
      },
      "source": [
        "8 Visualizzi un grafico a barre con i primi 10 tipi di cucina"
      ]
    },
    {
      "cell_type": "code",
      "metadata": {
        "colab": {
          "base_uri": "https://localhost:8080/",
          "height": 616
        },
        "id": "9_B6RpSWrMGh",
        "outputId": "14a60a2c-45ac-4731-ba4d-fadd08ae64a3"
      },
      "source": [
        "dati = df1.head(10)\n",
        "\n",
        "fig = plt.figure(figsize=(10,5))\n",
        "ax = plt.axes()\n",
        "fig.autofmt_xdate(rotation=90)     \n",
        "ax.bar(dati['cuisine'],dati['name'])\n",
        "plt.show()"
      ],
      "execution_count": null,
      "outputs": [
        {
          "output_type": "display_data",
          "data": {
            "image/png": "[encoded data removed]",
            "text/plain": [
              "<Figure size 720x360 with 1 Axes>"
            ]
          },
          "metadata": {
            "needs_background": "light"
          }
        }
      ]
    },
    {
      "cell_type": "markdown",
      "metadata": {
        "id": "hUPKQKhIs7DK"
      },
      "source": [
        "9 Calcoli il numero di ristoranti per ogni quartiere"
      ]
    },
    {
      "cell_type": "code",
      "metadata": {
        "colab": {
          "base_uri": "https://localhost:8080/"
        },
        "id": "A1tc0Kass9tJ",
        "outputId": "85f691fc-8be8-4089-a6b2-308defe04571"
      },
      "source": [
        "df2 = df.groupby('borough')['name'].count()\n",
        "df2"
      ],
      "execution_count": null,
      "outputs": [
        {
          "output_type": "execute_result",
          "data": {
            "text/plain": [
              "borough\n",
              "Bronx             2322\n",
              "Brooklyn          6046\n",
              "Manhattan        10211\n",
              "Queens            5615\n",
              "Staten Island      963\n",
              "Name: name, dtype: int64"
            ]
          },
          "metadata": {},
          "execution_count": 12
        }
      ]
    },
    {
      "cell_type": "markdown",
      "metadata": {
        "id": "XhpL2buxtkKx"
      },
      "source": [
        "10 Visualizzi i dati precedenti in un grafico a torta"
      ]
    },
    {
      "cell_type": "code",
      "metadata": {
        "colab": {
          "base_uri": "https://localhost:8080/",
          "height": 248
        },
        "id": "-3IvUCNttmOK",
        "outputId": "7855a281-6a7c-406d-d126-64c11635eca1"
      },
      "source": [
        "df2 = df.groupby('borough')['name'].count()\n",
        "fig = plt.figure()\n",
        "ax = plt.axes()\n",
        "ax.pie(df2.values,labels = df2.index,autopct='%1.1f%%')\n",
        "plt.show()"
      ],
      "execution_count": null,
      "outputs": [
        {
          "output_type": "display_data",
          "data": {
            "image/png": "[encoded data removed]",
            "text/plain": [
              "<Figure size 432x288 with 1 Axes>"
            ]
          },
          "metadata": {}
        }
      ]
    },
    {
      "cell_type": "markdown",
      "metadata": {
        "id": "NLJiRRdivgIU"
      },
      "source": [
        "11 Visualizzi i due grafici affiancati. Dare titoli appropriati ad entrambi i grafici. "
      ]
    },
    {
      "cell_type": "code",
      "metadata": {
        "colab": {
          "base_uri": "https://localhost:8080/",
          "height": 583
        },
        "id": "0cz-tW6Bvo5p",
        "outputId": "2face26e-c29f-4676-9968-e311e6af352a"
      },
      "source": [
        "fig, (ax1, ax2)= plt.subplots(1,2)\n",
        "fig.autofmt_xdate(rotation=90)    \n",
        "\n",
        "ax1.bar(dati['cuisine'],dati['name'])\n",
        "ax1.set_title('Grafico a barre ')\n",
        "\n",
        "ax2.pie(df2.values,labels = df2.index,autopct='%1.1f%%')\n",
        "ax2.set_title('Grafico a torta ')\n",
        "\n",
        "plt.show()"
      ],
      "execution_count": null,
      "outputs": [
        {
          "output_type": "display_data",
          "data": {
            "image/png": "[encoded data removed]",
            "text/plain": [
              "<Figure size 432x288 with 2 Axes>"
            ]
          },
          "metadata": {
            "needs_background": "light"
          }
        }
      ]
    },
    {
      "cell_type": "markdown",
      "metadata": {
        "id": "1l0u2LDvx_bU"
      },
      "source": [
        "12 Crei un nuovo dataframe sostituendo la parola 'non American' a tutti i tipi di cucina che non sono americani\n"
      ]
    },
    {
      "cell_type": "code",
      "metadata": {
        "colab": {
          "base_uri": "https://localhost:8080/",
          "height": 423
        },
        "id": "WXpSDy0MyCO6",
        "outputId": "b4a93815-77d2-45e1-e379-1f777f48574f"
      },
      "source": [
        "df3 = df.replace(df[df['cuisine']!='American']['cuisine'].tolist(),'non American')\n",
        "df3"
      ],
      "execution_count": null,
      "outputs": [
        {
          "output_type": "execute_result",
          "data": {
            "text/html": [
              "<div>\n",
              "<style scoped>\n",
              "    .dataframe tbody tr th:only-of-type {\n",
              "        vertical-align: middle;\n",
              "    }\n",
              "\n",
              "    .dataframe tbody tr th {\n",
              "        vertical-align: top;\n",
              "    }\n",
              "\n",
              "    .dataframe thead th {\n",
              "        text-align: right;\n",
              "    }\n",
              "</style>\n",
              "<table border=\"1\" class=\"dataframe\">\n",
              "  <thead>\n",
              "    <tr style=\"text-align: right;\">\n",
              "      <th></th>\n",
              "      <th>borough</th>\n",
              "      <th>cuisine</th>\n",
              "      <th>name</th>\n",
              "    </tr>\n",
              "  </thead>\n",
              "  <tbody>\n",
              "    <tr>\n",
              "      <th>0</th>\n",
              "      <td>Queens</td>\n",
              "      <td>American</td>\n",
              "      <td>Brunos On The Boulevard</td>\n",
              "    </tr>\n",
              "    <tr>\n",
              "      <th>1</th>\n",
              "      <td>Queens</td>\n",
              "      <td>non American</td>\n",
              "      <td>New Park Pizzeria &amp; Restaurant</td>\n",
              "    </tr>\n",
              "    <tr>\n",
              "      <th>2</th>\n",
              "      <td>Brooklyn</td>\n",
              "      <td>American</td>\n",
              "      <td>Regina Caterers</td>\n",
              "    </tr>\n",
              "    <tr>\n",
              "      <th>3</th>\n",
              "      <td>Staten Island</td>\n",
              "      <td>non American</td>\n",
              "      <td>Bagels N Buns</td>\n",
              "    </tr>\n",
              "    <tr>\n",
              "      <th>4</th>\n",
              "      <td>Manhattan</td>\n",
              "      <td>American</td>\n",
              "      <td>Old Homestead</td>\n",
              "    </tr>\n",
              "    <tr>\n",
              "      <th>...</th>\n",
              "      <td>...</td>\n",
              "      <td>...</td>\n",
              "      <td>...</td>\n",
              "    </tr>\n",
              "    <tr>\n",
              "      <th>25354</th>\n",
              "      <td>Queens</td>\n",
              "      <td>non American</td>\n",
              "      <td>Camden Food Express</td>\n",
              "    </tr>\n",
              "    <tr>\n",
              "      <th>25355</th>\n",
              "      <td>Manhattan</td>\n",
              "      <td>non American</td>\n",
              "      <td>Wooly'S Nyc</td>\n",
              "    </tr>\n",
              "    <tr>\n",
              "      <th>25356</th>\n",
              "      <td>Manhattan</td>\n",
              "      <td>non American</td>\n",
              "      <td>Rafi 786</td>\n",
              "    </tr>\n",
              "    <tr>\n",
              "      <th>25357</th>\n",
              "      <td>Brooklyn</td>\n",
              "      <td>non American</td>\n",
              "      <td>NaN</td>\n",
              "    </tr>\n",
              "    <tr>\n",
              "      <th>25358</th>\n",
              "      <td>Manhattan</td>\n",
              "      <td>non American</td>\n",
              "      <td>Buttercup Bake Shop</td>\n",
              "    </tr>\n",
              "  </tbody>\n",
              "</table>\n",
              "<p>25359 rows × 3 columns</p>\n",
              "</div>"
            ],
            "text/plain": [
              "             borough       cuisine                            name\n",
              "0             Queens      American         Brunos On The Boulevard\n",
              "1             Queens  non American  New Park Pizzeria & Restaurant\n",
              "2           Brooklyn      American                 Regina Caterers\n",
              "3      Staten Island  non American                   Bagels N Buns\n",
              "4          Manhattan      American                   Old Homestead\n",
              "...              ...           ...                             ...\n",
              "25354         Queens  non American             Camden Food Express\n",
              "25355      Manhattan  non American                    Wooly'S Nyc \n",
              "25356      Manhattan  non American                        Rafi 786\n",
              "25357       Brooklyn  non American                             NaN\n",
              "25358      Manhattan  non American             Buttercup Bake Shop\n",
              "\n",
              "[25359 rows x 3 columns]"
            ]
          },
          "metadata": {},
          "execution_count": 27
        }
      ]
    },
    {
      "cell_type": "markdown",
      "metadata": {
        "id": "ApC7BVQC00Fs"
      },
      "source": [
        "13 Visualizzi, per ogni quartiere, il numero di ristoranti di cucina americana e non americana. Il risultato deve essere il seguente:\n"
      ]
    },
    {
      "cell_type": "code",
      "metadata": {
        "colab": {
          "base_uri": "https://localhost:8080/",
          "height": 394
        },
        "id": "4vmrsJ3u03GE",
        "outputId": "1b31301f-9afc-44e8-9810-4e3cd5374953"
      },
      "source": [
        "df3 = df.groupby(['borough','cuisine']).count()\n",
        "df3"
      ],
      "execution_count": null,
      "outputs": [
        {
          "output_type": "execute_result",
          "data": {
            "text/html": [
              "<div>\n",
              "<style scoped>\n",
              "    .dataframe tbody tr th:only-of-type {\n",
              "        vertical-align: middle;\n",
              "    }\n",
              "\n",
              "    .dataframe tbody tr th {\n",
              "        vertical-align: top;\n",
              "    }\n",
              "\n",
              "    .dataframe thead th {\n",
              "        text-align: right;\n",
              "    }\n",
              "</style>\n",
              "<table border=\"1\" class=\"dataframe\">\n",
              "  <thead>\n",
              "    <tr style=\"text-align: right;\">\n",
              "      <th></th>\n",
              "      <th></th>\n",
              "      <th>name</th>\n",
              "    </tr>\n",
              "    <tr>\n",
              "      <th>borough</th>\n",
              "      <th>cuisine</th>\n",
              "      <th></th>\n",
              "    </tr>\n",
              "  </thead>\n",
              "  <tbody>\n",
              "    <tr>\n",
              "      <th rowspan=\"2\" valign=\"top\">Bronx</th>\n",
              "      <th>American</th>\n",
              "      <td>411</td>\n",
              "    </tr>\n",
              "    <tr>\n",
              "      <th>non American</th>\n",
              "      <td>1911</td>\n",
              "    </tr>\n",
              "    <tr>\n",
              "      <th rowspan=\"2\" valign=\"top\">Brooklyn</th>\n",
              "      <th>American</th>\n",
              "      <td>1273</td>\n",
              "    </tr>\n",
              "    <tr>\n",
              "      <th>non American</th>\n",
              "      <td>4773</td>\n",
              "    </tr>\n",
              "    <tr>\n",
              "      <th rowspan=\"2\" valign=\"top\">Manhattan</th>\n",
              "      <th>American</th>\n",
              "      <td>3205</td>\n",
              "    </tr>\n",
              "    <tr>\n",
              "      <th>non American</th>\n",
              "      <td>7006</td>\n",
              "    </tr>\n",
              "    <tr>\n",
              "      <th rowspan=\"2\" valign=\"top\">Queens</th>\n",
              "      <th>American</th>\n",
              "      <td>1040</td>\n",
              "    </tr>\n",
              "    <tr>\n",
              "      <th>non American</th>\n",
              "      <td>4575</td>\n",
              "    </tr>\n",
              "    <tr>\n",
              "      <th rowspan=\"2\" valign=\"top\">Staten Island</th>\n",
              "      <th>American</th>\n",
              "      <td>244</td>\n",
              "    </tr>\n",
              "    <tr>\n",
              "      <th>non American</th>\n",
              "      <td>719</td>\n",
              "    </tr>\n",
              "  </tbody>\n",
              "</table>\n",
              "</div>"
            ],
            "text/plain": [
              "                            name\n",
              "borough       cuisine           \n",
              "Bronx         American       411\n",
              "              non American  1911\n",
              "Brooklyn      American      1273\n",
              "              non American  4773\n",
              "Manhattan     American      3205\n",
              "              non American  7006\n",
              "Queens        American      1040\n",
              "              non American  4575\n",
              "Staten Island American       244\n",
              "              non American   719"
            ]
          },
          "metadata": {},
          "execution_count": 29
        }
      ]
    },
    {
      "cell_type": "markdown",
      "metadata": {
        "id": "E-OwMCtsYHrG"
      },
      "source": [
        "14 crei un nuovo dataframe che abbia una colonna che contiene i ristoranti di cucina americana e una\n",
        "colonna che contiene il numero di ristoranti che propongono cucine non americane. Il risultato deve\n",
        "essere il seguente:"
      ]
    },
    {
      "cell_type": "code",
      "metadata": {
        "colab": {
          "base_uri": "https://localhost:8080/",
          "height": 237
        },
        "id": "vFapLgaIYGwU",
        "outputId": "83df4cc1-7797-405f-e56b-b6f1aede255b"
      },
      "source": [
        "pivt = df3.unstack()\n",
        "pivt['name']\n"
      ],
      "execution_count": null,
      "outputs": [
        {
          "output_type": "execute_result",
          "data": {
            "text/html": [
              "<div>\n",
              "<style scoped>\n",
              "    .dataframe tbody tr th:only-of-type {\n",
              "        vertical-align: middle;\n",
              "    }\n",
              "\n",
              "    .dataframe tbody tr th {\n",
              "        vertical-align: top;\n",
              "    }\n",
              "\n",
              "    .dataframe thead th {\n",
              "        text-align: right;\n",
              "    }\n",
              "</style>\n",
              "<table border=\"1\" class=\"dataframe\">\n",
              "  <thead>\n",
              "    <tr style=\"text-align: right;\">\n",
              "      <th>cuisine</th>\n",
              "      <th>American</th>\n",
              "      <th>non American</th>\n",
              "    </tr>\n",
              "    <tr>\n",
              "      <th>borough</th>\n",
              "      <th></th>\n",
              "      <th></th>\n",
              "    </tr>\n",
              "  </thead>\n",
              "  <tbody>\n",
              "    <tr>\n",
              "      <th>Bronx</th>\n",
              "      <td>411</td>\n",
              "      <td>1911</td>\n",
              "    </tr>\n",
              "    <tr>\n",
              "      <th>Brooklyn</th>\n",
              "      <td>1273</td>\n",
              "      <td>4773</td>\n",
              "    </tr>\n",
              "    <tr>\n",
              "      <th>Manhattan</th>\n",
              "      <td>3205</td>\n",
              "      <td>7006</td>\n",
              "    </tr>\n",
              "    <tr>\n",
              "      <th>Queens</th>\n",
              "      <td>1040</td>\n",
              "      <td>4575</td>\n",
              "    </tr>\n",
              "    <tr>\n",
              "      <th>Staten Island</th>\n",
              "      <td>244</td>\n",
              "      <td>719</td>\n",
              "    </tr>\n",
              "  </tbody>\n",
              "</table>\n",
              "</div>"
            ],
            "text/plain": [
              "cuisine        American  non American\n",
              "borough                              \n",
              "Bronx               411          1911\n",
              "Brooklyn           1273          4773\n",
              "Manhattan          3205          7006\n",
              "Queens             1040          4575\n",
              "Staten Island       244           719"
            ]
          },
          "metadata": {},
          "execution_count": 31
        }
      ]
    },
    {
      "cell_type": "markdown",
      "metadata": {
        "id": "qP7fiSF6YYX1"
      },
      "source": [
        "15. resetti l&#39;indice in modo da avere le tre colonne necessarie per costruire un grafico a barre. Il risultato\n",
        "deve essere il seguente:"
      ]
    },
    {
      "cell_type": "code",
      "metadata": {
        "colab": {
          "base_uri": "https://localhost:8080/",
          "height": 206
        },
        "id": "XWfXR2uTYbzj",
        "outputId": "d4cc1952-8613-4a91-afc2-41837dd2801b"
      },
      "source": [
        "dati = pivt['name'].reset_index()\n",
        "dati"
      ],
      "execution_count": null,
      "outputs": [
        {
          "output_type": "execute_result",
          "data": {
            "text/html": [
              "<div>\n",
              "<style scoped>\n",
              "    .dataframe tbody tr th:only-of-type {\n",
              "        vertical-align: middle;\n",
              "    }\n",
              "\n",
              "    .dataframe tbody tr th {\n",
              "        vertical-align: top;\n",
              "    }\n",
              "\n",
              "    .dataframe thead th {\n",
              "        text-align: right;\n",
              "    }\n",
              "</style>\n",
              "<table border=\"1\" class=\"dataframe\">\n",
              "  <thead>\n",
              "    <tr style=\"text-align: right;\">\n",
              "      <th>cuisine</th>\n",
              "      <th>borough</th>\n",
              "      <th>American</th>\n",
              "      <th>non American</th>\n",
              "    </tr>\n",
              "  </thead>\n",
              "  <tbody>\n",
              "    <tr>\n",
              "      <th>0</th>\n",
              "      <td>Bronx</td>\n",
              "      <td>411</td>\n",
              "      <td>1911</td>\n",
              "    </tr>\n",
              "    <tr>\n",
              "      <th>1</th>\n",
              "      <td>Brooklyn</td>\n",
              "      <td>1273</td>\n",
              "      <td>4773</td>\n",
              "    </tr>\n",
              "    <tr>\n",
              "      <th>2</th>\n",
              "      <td>Manhattan</td>\n",
              "      <td>3205</td>\n",
              "      <td>7006</td>\n",
              "    </tr>\n",
              "    <tr>\n",
              "      <th>3</th>\n",
              "      <td>Queens</td>\n",
              "      <td>1040</td>\n",
              "      <td>4575</td>\n",
              "    </tr>\n",
              "    <tr>\n",
              "      <th>4</th>\n",
              "      <td>Staten Island</td>\n",
              "      <td>244</td>\n",
              "      <td>719</td>\n",
              "    </tr>\n",
              "  </tbody>\n",
              "</table>\n",
              "</div>"
            ],
            "text/plain": [
              "cuisine        borough  American  non American\n",
              "0                Bronx       411          1911\n",
              "1             Brooklyn      1273          4773\n",
              "2            Manhattan      3205          7006\n",
              "3               Queens      1040          4575\n",
              "4        Staten Island       244           719"
            ]
          },
          "metadata": {},
          "execution_count": 32
        }
      ]
    },
    {
      "cell_type": "markdown",
      "metadata": {
        "id": "fF3QBokdYb8I"
      },
      "source": [
        "16 Visualizzi un istogramma in cui per ogni quartiere si visualizzi una barra con il numero dei ristoranti americani ed una per quelli non americani. Il risultato deve essere il seguente:\n"
      ]
    },
    {
      "cell_type": "code",
      "metadata": {
        "colab": {
          "base_uri": "https://localhost:8080/",
          "height": 457
        },
        "id": "_mNqz29LYjGY",
        "outputId": "6a3ce148-a28c-4500-a625-8a0c0c98daa3"
      },
      "source": [
        "fig = plt.figure(figsize=(8,6)) \n",
        "ax = plt.axes()\n",
        "ax.bar(dati[\"borough\"],dati[\"American\"],label=\"American\",width=0.3,color=\"blue\")\n",
        "ax.bar(dati.index+0.3,dati[\"non American\"],label=\"non American\",width=0.3,color=\"#ff8c00\")\n",
        "fig.autofmt_xdate(rotation=90)\n",
        "fig.suptitle(\"Tipologia di cucina\")\n",
        "ax.legend(loc=0)"
      ],
      "execution_count": null,
      "outputs": [
        {
          "output_type": "execute_result",
          "data": {
            "text/plain": [
              "<matplotlib.legend.Legend at 0x7ff993ebc350>"
            ]
          },
          "metadata": {},
          "execution_count": 46
        },
        {
          "output_type": "display_data",
          "data": {
            "image/png": "[encoded data removed]",
            "text/plain": [
              "<Figure size 576x432 with 1 Axes>"
            ]
          },
          "metadata": {
            "needs_background": "light"
          }
        }
      ]
    }
  ]
}